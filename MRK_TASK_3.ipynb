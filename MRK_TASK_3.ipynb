{
 "cells": [
  {
   "cell_type": "markdown",
   "id": "110812e8",
   "metadata": {},
   "source": [
    "Assignment Tasks on String Escape Characters, Indexing, and Slicing:\n",
    "\n",
    "**String Escape Characters:**\n",
    "\n",
    "Task 1:\n",
    "1. Create a string containing a sentence that includes both single and double quotes.\n",
    "2. Use escape characters to include quotes within the string.\n",
    "3. Print the modified string.\n",
    "\n",
    "Task 2:\n",
    "1. Declare a string with a backslash \\ character in it.\n",
    "2. Demonstrate the use of the escape character to print the backslash itself.\n",
    "3. Print the resulting string.\n",
    "\n",
    "Task 3:\n",
    "1. Construct a string containing newline and tab escape sequences.\n",
    "2. Print the string to display the formatted output.\n",
    "\n",
    "**Indexing and Slicing:**\n",
    "\n",
    "Task 4:\n",
    "1.  sentence = \"I want to become Data Scientist\".\n",
    "2. Access and print the `first character` of the string using indexing.\n",
    "3. Access and print the `last character` of the string using negative indexing.\n",
    "\n",
    "Task 5:\n",
    "1. What are `possible ways` yo extract `Scientist`(use forward and reverse)\n",
    "2. Use slicing to extract and print the `first word` from the string.\n",
    "3. Use slicing to extract and print the `last three` characters of the string.\n",
    "\n",
    "Task 6:\n",
    "1. name = \"Innomatics Reserach Labs\"\n",
    "2. Apply slicing to extract a substring that includes the `second to fifth` characters.\n",
    "3. `Print` the extracted substring.\n",
    "\n",
    "Task 7:\n",
    "1. string = \"Python@1234\"\n",
    "2. Use slicing to extract every second character from the string.\n",
    "3. Print the resulting sliced string.\n",
    "\n",
    "Task 8:\n",
    "1.  print last five letters.\n",
    "2. Utilize slicing to reverse the word order in the string.\n",
    "3. Print the string with the words in the reversed order.\n",
    "\n",
    "Task 9:\n",
    "1. a = \"123123123\"\n",
    "2. Apply slicing to extract only the numeric characters at odd positions.\n",
    "3. Print the sliced result.\n",
    "\n",
    "Remember to include explanations or comments for each task's code to ensure clarity. Additionally, encourage students to experiment further with different escape characters and slicing techniques beyond the provided tasks to deepen their understanding."
   ]
  },
  {
   "cell_type": "code",
   "execution_count": 1,
   "id": "337596d5",
   "metadata": {},
   "outputs": [],
   "source": [
    "string= \" men can do 'anything' \""
   ]
  },
  {
   "cell_type": "code",
   "execution_count": 2,
   "id": "a67ae0ff",
   "metadata": {},
   "outputs": [
    {
     "data": {
      "text/plain": [
       "\" men can do 'anything' \""
      ]
     },
     "execution_count": 2,
     "metadata": {},
     "output_type": "execute_result"
    }
   ],
   "source": [
    "string"
   ]
  },
  {
   "cell_type": "code",
   "execution_count": 8,
   "id": "018814f6",
   "metadata": {},
   "outputs": [],
   "source": [
    "string= \" \\'men\\'s can do anything \""
   ]
  },
  {
   "cell_type": "code",
   "execution_count": 9,
   "id": "51c826fa",
   "metadata": {},
   "outputs": [
    {
     "data": {
      "text/plain": [
       "\" 'men's can do anything \""
      ]
     },
     "execution_count": 9,
     "metadata": {},
     "output_type": "execute_result"
    }
   ],
   "source": [
    "string"
   ]
  },
  {
   "cell_type": "code",
   "execution_count": 10,
   "id": "34a9f5c7",
   "metadata": {},
   "outputs": [
    {
     "name": "stdout",
     "output_type": "stream",
     "text": [
      " 'men's can do anything \n"
     ]
    }
   ],
   "source": [
    "print(string)"
   ]
  },
  {
   "cell_type": "markdown",
   "id": "ce717257",
   "metadata": {},
   "source": [
    "#2"
   ]
  },
  {
   "cell_type": "code",
   "execution_count": 13,
   "id": "8a457fb5",
   "metadata": {},
   "outputs": [],
   "source": [
    "string=\"the men\\\\on fire\""
   ]
  },
  {
   "cell_type": "code",
   "execution_count": 14,
   "id": "ff278f12",
   "metadata": {},
   "outputs": [
    {
     "name": "stdout",
     "output_type": "stream",
     "text": [
      "the men\\on fire\n"
     ]
    }
   ],
   "source": [
    "print(string)"
   ]
  },
  {
   "cell_type": "markdown",
   "id": "dd16cd04",
   "metadata": {},
   "source": [
    "#3"
   ]
  },
  {
   "cell_type": "code",
   "execution_count": 15,
   "id": "7cb50639",
   "metadata": {},
   "outputs": [],
   "source": [
    "string=\"I am enginering \\nI am good person \""
   ]
  },
  {
   "cell_type": "code",
   "execution_count": 17,
   "id": "90fd5964",
   "metadata": {},
   "outputs": [
    {
     "name": "stdout",
     "output_type": "stream",
     "text": [
      "I am enginering \n",
      " I am good person \n"
     ]
    }
   ],
   "source": [
    "print(string)"
   ]
  },
  {
   "cell_type": "code",
   "execution_count": 18,
   "id": "cc7bf57c",
   "metadata": {},
   "outputs": [],
   "source": [
    "string=\"I am\\tenginering\\t am good\\t person \""
   ]
  },
  {
   "cell_type": "code",
   "execution_count": 19,
   "id": "67199893",
   "metadata": {},
   "outputs": [
    {
     "name": "stdout",
     "output_type": "stream",
     "text": [
      "I am\tenginering\t am good\t person \n"
     ]
    }
   ],
   "source": [
    "print(string)"
   ]
  },
  {
   "cell_type": "markdown",
   "id": "9d50a897",
   "metadata": {},
   "source": [
    "#4"
   ]
  },
  {
   "cell_type": "code",
   "execution_count": 20,
   "id": "0b5a32f7",
   "metadata": {},
   "outputs": [],
   "source": [
    "sentence = \"I want to become Data Scientist\""
   ]
  },
  {
   "cell_type": "code",
   "execution_count": 21,
   "id": "1e5d7afb",
   "metadata": {},
   "outputs": [
    {
     "data": {
      "text/plain": [
       "'I'"
      ]
     },
     "execution_count": 21,
     "metadata": {},
     "output_type": "execute_result"
    }
   ],
   "source": [
    "sentence[0]"
   ]
  },
  {
   "cell_type": "code",
   "execution_count": 23,
   "id": "d3cb5a0e",
   "metadata": {},
   "outputs": [
    {
     "data": {
      "text/plain": [
       "'t'"
      ]
     },
     "execution_count": 23,
     "metadata": {},
     "output_type": "execute_result"
    }
   ],
   "source": [
    "sentence[-1]"
   ]
  },
  {
   "cell_type": "markdown",
   "id": "13f58185",
   "metadata": {},
   "source": [
    "#5"
   ]
  },
  {
   "cell_type": "code",
   "execution_count": 24,
   "id": "164eb86a",
   "metadata": {},
   "outputs": [
    {
     "data": {
      "text/plain": [
       "'Scientist'"
      ]
     },
     "execution_count": 24,
     "metadata": {},
     "output_type": "execute_result"
    }
   ],
   "source": [
    "sentence[22:32:1]"
   ]
  },
  {
   "cell_type": "code",
   "execution_count": 26,
   "id": "096e906d",
   "metadata": {},
   "outputs": [
    {
     "data": {
      "text/plain": [
       "'I'"
      ]
     },
     "execution_count": 26,
     "metadata": {},
     "output_type": "execute_result"
    }
   ],
   "source": [
    "sentence[0]"
   ]
  },
  {
   "cell_type": "code",
   "execution_count": 27,
   "id": "a8e85419",
   "metadata": {},
   "outputs": [
    {
     "data": {
      "text/plain": [
       "'ist'"
      ]
     },
     "execution_count": 27,
     "metadata": {},
     "output_type": "execute_result"
    }
   ],
   "source": [
    "sentence[28::]"
   ]
  },
  {
   "cell_type": "markdown",
   "id": "8ab924a8",
   "metadata": {},
   "source": [
    "#6"
   ]
  },
  {
   "cell_type": "code",
   "execution_count": 29,
   "id": "64dae4ba",
   "metadata": {},
   "outputs": [],
   "source": [
    "name = \"Innomatics Reserach Labs\""
   ]
  },
  {
   "cell_type": "code",
   "execution_count": 30,
   "id": "e399e9b3",
   "metadata": {},
   "outputs": [
    {
     "data": {
      "text/plain": [
       "'nnom'"
      ]
     },
     "execution_count": 30,
     "metadata": {},
     "output_type": "execute_result"
    }
   ],
   "source": [
    "name[1:5:1]"
   ]
  },
  {
   "cell_type": "code",
   "execution_count": 32,
   "id": "a96c5dcf",
   "metadata": {},
   "outputs": [
    {
     "name": "stdout",
     "output_type": "stream",
     "text": [
      "nnom\n"
     ]
    }
   ],
   "source": [
    "print(name[1:5:1])"
   ]
  },
  {
   "cell_type": "markdown",
   "id": "270d5228",
   "metadata": {},
   "source": [
    "#7"
   ]
  },
  {
   "cell_type": "code",
   "execution_count": 33,
   "id": "f626913a",
   "metadata": {},
   "outputs": [],
   "source": [
    "string = \"Python@1234\""
   ]
  },
  {
   "cell_type": "code",
   "execution_count": 37,
   "id": "afd63cc1",
   "metadata": {},
   "outputs": [
    {
     "data": {
      "text/plain": [
       "'yhn13'"
      ]
     },
     "execution_count": 37,
     "metadata": {},
     "output_type": "execute_result"
    }
   ],
   "source": [
    "string[1::2]"
   ]
  },
  {
   "cell_type": "code",
   "execution_count": 38,
   "id": "68e3c4a0",
   "metadata": {},
   "outputs": [
    {
     "name": "stdout",
     "output_type": "stream",
     "text": [
      "yhn13\n"
     ]
    }
   ],
   "source": [
    "print(string[1::2])"
   ]
  },
  {
   "cell_type": "markdown",
   "id": "7f89a8a6",
   "metadata": {},
   "source": [
    "#8"
   ]
  },
  {
   "cell_type": "code",
   "execution_count": 45,
   "id": "986c7ce4",
   "metadata": {},
   "outputs": [],
   "source": [
    "string=\"mahadeev\""
   ]
  },
  {
   "cell_type": "code",
   "execution_count": 44,
   "id": "0286002b",
   "metadata": {},
   "outputs": [
    {
     "data": {
      "text/plain": [
       "'veeda'"
      ]
     },
     "execution_count": 44,
     "metadata": {},
     "output_type": "execute_result"
    }
   ],
   "source": [
    "string[-1:-6:-1]"
   ]
  },
  {
   "cell_type": "code",
   "execution_count": 46,
   "id": "f69aee03",
   "metadata": {},
   "outputs": [
    {
     "data": {
      "text/plain": [
       "'adeev'"
      ]
     },
     "execution_count": 46,
     "metadata": {},
     "output_type": "execute_result"
    }
   ],
   "source": [
    "string[3::1]"
   ]
  },
  {
   "cell_type": "code",
   "execution_count": 47,
   "id": "b42b3ca9",
   "metadata": {},
   "outputs": [
    {
     "name": "stdout",
     "output_type": "stream",
     "text": [
      "veeda\n"
     ]
    }
   ],
   "source": [
    "print(string[-1:-6:-1])"
   ]
  },
  {
   "cell_type": "markdown",
   "id": "37efe4ce",
   "metadata": {},
   "source": [
    "#9"
   ]
  },
  {
   "cell_type": "code",
   "execution_count": 48,
   "id": "6598a7e8",
   "metadata": {},
   "outputs": [],
   "source": [
    "a = \"123123123\""
   ]
  },
  {
   "cell_type": "code",
   "execution_count": 51,
   "id": "a7fe58a8",
   "metadata": {},
   "outputs": [
    {
     "data": {
      "text/plain": [
       "'13213'"
      ]
     },
     "execution_count": 51,
     "metadata": {},
     "output_type": "execute_result"
    }
   ],
   "source": [
    "a[0:9:2]"
   ]
  },
  {
   "cell_type": "code",
   "execution_count": 52,
   "id": "bb4276fd",
   "metadata": {},
   "outputs": [
    {
     "name": "stdout",
     "output_type": "stream",
     "text": [
      "13213\n"
     ]
    }
   ],
   "source": [
    "print(a[0:9:2])"
   ]
  },
  {
   "cell_type": "code",
   "execution_count": null,
   "id": "46fbbe61",
   "metadata": {},
   "outputs": [],
   "source": []
  }
 ],
 "metadata": {
  "kernelspec": {
   "display_name": "Python 3 (ipykernel)",
   "language": "python",
   "name": "python3"
  },
  "language_info": {
   "codemirror_mode": {
    "name": "ipython",
    "version": 3
   },
   "file_extension": ".py",
   "mimetype": "text/x-python",
   "name": "python",
   "nbconvert_exporter": "python",
   "pygments_lexer": "ipython3",
   "version": "3.11.4"
  }
 },
 "nbformat": 4,
 "nbformat_minor": 5
}
