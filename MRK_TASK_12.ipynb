{
 "cells": [
  {
   "cell_type": "markdown",
   "id": "8060b9a4",
   "metadata": {},
   "source": [
    "**while loops and their use in programming.**\n",
    "1. Write a Python program that uses a while loop to print the numbers from `A` to `P`.\n",
    "\n",
    "2. Modify the program to print only the even numbers from `1 to 20 except mutiple of 3` using a while loop.\n",
    "\n",
    "3. Create a program that prompts the user for an integer input and then uses a while loop to print the countdown from `that number to 1`.\n",
    "\n",
    "\n",
    "4. Write a Python program that uses a while loop to repeatedly ask the user to enter a number. If the user enters 0, exit the loop using the `break` statement. Otherwise, continue prompting for numbers.\n",
    "\n",
    "5. Create a program that uses a while loop to print the numbers from 1 to 20, but skip printing the numbers 5, 10, and 15 using the `continue` statement.\n",
    "\n",
    "6. Write a Python program that simulates a simple password entry system. Ask the user to enter a password, and use a while loop to repeatedly prompt for the password until the correct password \"abc123\" is entered. Once the correct password is entered, exit the loop.\n",
    "\n",
    "7. Calculate and print the sum of all the positive integers entered by the user.\n",
    "\n",
    "\n",
    "\n",
    "."
   ]
  },
  {
   "cell_type": "code",
   "execution_count": 8,
   "id": "f9501fc9",
   "metadata": {},
   "outputs": [
    {
     "name": "stdout",
     "output_type": "stream",
     "text": [
      "A\n",
      "B\n",
      "C\n",
      "D\n",
      "E\n",
      "F\n",
      "G\n",
      "H\n",
      "I\n",
      "J\n",
      "K\n",
      "L\n",
      "M\n",
      "N\n",
      "O\n",
      "P\n"
     ]
    }
   ],
   "source": [
    "n=0\n",
    "while n<=15:\n",
    "    print(chr(65+n))\n",
    "    n=n+1                               #1\n",
    "    "
   ]
  },
  {
   "cell_type": "code",
   "execution_count": 12,
   "id": "8282b7d0",
   "metadata": {},
   "outputs": [
    {
     "name": "stdout",
     "output_type": "stream",
     "text": [
      "2\n",
      "4\n",
      "6\n",
      "8\n",
      "10\n",
      "12\n",
      "14\n",
      "16\n",
      "18\n",
      "20\n"
     ]
    }
   ],
   "source": [
    "n=1\n",
    "while n<=20 :                                 #2\n",
    "    if (n%2==0) and (n*3):\n",
    "        print(n)\n",
    "    n=n+1"
   ]
  },
  {
   "cell_type": "code",
   "execution_count": 13,
   "id": "4014ee67",
   "metadata": {},
   "outputs": [
    {
     "name": "stdout",
     "output_type": "stream",
     "text": [
      "Enter the number :: 20\n",
      "20\n",
      "19\n",
      "18\n",
      "17\n",
      "16\n",
      "15\n",
      "14\n",
      "13\n",
      "12\n",
      "11\n",
      "10\n",
      "9\n",
      "8\n",
      "7\n",
      "6\n",
      "5\n",
      "4\n",
      "3\n",
      "2\n",
      "1\n"
     ]
    }
   ],
   "source": [
    "user=int(input(\"Enter the number :: \"))\n",
    "while user>=1:\n",
    "    print(user)\n",
    "    user=user-1                                        #3"
   ]
  },
  {
   "cell_type": "code",
   "execution_count": 15,
   "id": "b4b03e17",
   "metadata": {},
   "outputs": [
    {
     "name": "stdout",
     "output_type": "stream",
     "text": [
      "Enter the number :: 8\n",
      "8\n",
      "Enter the number :: 273740\n",
      "273740\n",
      "Enter the number :: 64643854869341\n",
      "64643854869341\n",
      "Enter the number :: 0\n",
      "Zero can't take\n"
     ]
    }
   ],
   "source": [
    "user=int(input(\"Enter the number :: \"))\n",
    "print(user)\n",
    "while user:\n",
    "    user=int(input(\"Enter the number :: \"))\n",
    "    if user == 0:\n",
    "        print(\"Zero can't take\")\n",
    "        break\n",
    "    else:\n",
    "        print(user)                                #4\n",
    "        continue"
   ]
  },
  {
   "cell_type": "code",
   "execution_count": 18,
   "id": "079e1a0b",
   "metadata": {},
   "outputs": [
    {
     "name": "stdout",
     "output_type": "stream",
     "text": [
      "1\n",
      "2\n",
      "3\n",
      "4\n",
      "6\n",
      "7\n",
      "8\n",
      "9\n",
      "11\n",
      "12\n",
      "13\n",
      "14\n",
      "16\n",
      "17\n",
      "18\n",
      "19\n",
      "20\n"
     ]
    }
   ],
   "source": [
    "n=1\n",
    "while n<=20:\n",
    "    if n not in (5,10,15):\n",
    "        print(n)\n",
    "    n=n+1                                      #5"
   ]
  },
  {
   "cell_type": "code",
   "execution_count": 23,
   "id": "10a3c3f9",
   "metadata": {},
   "outputs": [
    {
     "name": "stdout",
     "output_type": "stream",
     "text": [
      "Enter the password ::gysdfytg\n",
      "Please check you password\n",
      "Enter the password ::ajhdj\n",
      "Please check you password\n",
      "Enter the password ::abc123\n",
      "welcome my friend\n"
     ]
    }
   ],
   "source": [
    "pas=\"abc123\"\n",
    "while pas:\n",
    "    user=input(\"Enter the password ::\")                   #6\n",
    "    if user != pas :\n",
    "        print(\"Please check you password\")\n",
    "    else:\n",
    "        print(\"welcome my friend\")\n",
    "        break"
   ]
  },
  {
   "cell_type": "code",
   "execution_count": null,
   "id": "c11eb49b",
   "metadata": {},
   "outputs": [
    {
     "name": "stdout",
     "output_type": "stream",
     "text": [
      "Enter the number :: 78\n",
      "Enter the number :: 097\n",
      "175\n",
      "Enter the number :: 77\n",
      "252\n"
     ]
    }
   ],
   "source": [
    "num=int(input(\"Enter the number :: \"))\n",
    "total=num\n",
    "while num:\n",
    "    if num>0:                                                                 #7\n",
    "        user=int(input(\"Enter the number :: \"))\n",
    "        total=user+total\n",
    "        print(total)"
   ]
  },
  {
   "cell_type": "code",
   "execution_count": null,
   "id": "73383263",
   "metadata": {},
   "outputs": [],
   "source": []
  }
 ],
 "metadata": {
  "kernelspec": {
   "display_name": "Python 3 (ipykernel)",
   "language": "python",
   "name": "python3"
  },
  "language_info": {
   "codemirror_mode": {
    "name": "ipython",
    "version": 3
   },
   "file_extension": ".py",
   "mimetype": "text/x-python",
   "name": "python",
   "nbconvert_exporter": "python",
   "pygments_lexer": "ipython3",
   "version": "3.11.4"
  }
 },
 "nbformat": 4,
 "nbformat_minor": 5
}
