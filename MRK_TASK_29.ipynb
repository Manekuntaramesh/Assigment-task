{
 "cells": [
  {
   "cell_type": "code",
   "execution_count": 1,
   "id": "b23fd820",
   "metadata": {},
   "outputs": [],
   "source": [
    "import numpy as np \n",
    "import pandas as pd"
   ]
  },
  {
   "cell_type": "code",
   "execution_count": 54,
   "id": "e1837531",
   "metadata": {},
   "outputs": [],
   "source": [
    "ff=pd.read_excel(r\"C:\\Users\\manne\\Downloads\\Clean.xlsx\")"
   ]
  },
  {
   "cell_type": "code",
   "execution_count": 55,
   "id": "9c2a58dc",
   "metadata": {},
   "outputs": [
    {
     "data": {
      "text/html": [
       "<div>\n",
       "<style scoped>\n",
       "    .dataframe tbody tr th:only-of-type {\n",
       "        vertical-align: middle;\n",
       "    }\n",
       "\n",
       "    .dataframe tbody tr th {\n",
       "        vertical-align: top;\n",
       "    }\n",
       "\n",
       "    .dataframe thead th {\n",
       "        text-align: right;\n",
       "    }\n",
       "</style>\n",
       "<table border=\"1\" class=\"dataframe\">\n",
       "  <thead>\n",
       "    <tr style=\"text-align: right;\">\n",
       "      <th></th>\n",
       "      <th>Unnamed: 0</th>\n",
       "      <th>Id</th>\n",
       "      <th>SepalLengthCm</th>\n",
       "      <th>SepalWidthCm</th>\n",
       "      <th>PetalLengthCm</th>\n",
       "      <th>PetalWidthCm</th>\n",
       "      <th>Species</th>\n",
       "    </tr>\n",
       "  </thead>\n",
       "  <tbody>\n",
       "    <tr>\n",
       "      <th>0</th>\n",
       "      <td>0</td>\n",
       "      <td>1</td>\n",
       "      <td>5.1</td>\n",
       "      <td>3.5</td>\n",
       "      <td>1.4</td>\n",
       "      <td>0</td>\n",
       "      <td>Iris-setosa</td>\n",
       "    </tr>\n",
       "    <tr>\n",
       "      <th>1</th>\n",
       "      <td>1</td>\n",
       "      <td>2</td>\n",
       "      <td>4.9</td>\n",
       "      <td>3.0</td>\n",
       "      <td>1.4</td>\n",
       "      <td>0</td>\n",
       "      <td>Iris-setosa</td>\n",
       "    </tr>\n",
       "    <tr>\n",
       "      <th>2</th>\n",
       "      <td>2</td>\n",
       "      <td>3</td>\n",
       "      <td>NaN</td>\n",
       "      <td>3.2</td>\n",
       "      <td>1.3</td>\n",
       "      <td>0</td>\n",
       "      <td>Iris-setosa</td>\n",
       "    </tr>\n",
       "    <tr>\n",
       "      <th>3</th>\n",
       "      <td>3</td>\n",
       "      <td>4</td>\n",
       "      <td>4.6</td>\n",
       "      <td>3.1</td>\n",
       "      <td>1.5</td>\n",
       "      <td>0</td>\n",
       "      <td>Iris-setosa</td>\n",
       "    </tr>\n",
       "    <tr>\n",
       "      <th>4</th>\n",
       "      <td>4</td>\n",
       "      <td>5</td>\n",
       "      <td>5.0</td>\n",
       "      <td>3.6</td>\n",
       "      <td>1.4</td>\n",
       "      <td>0</td>\n",
       "      <td>Iris-setosa</td>\n",
       "    </tr>\n",
       "  </tbody>\n",
       "</table>\n",
       "</div>"
      ],
      "text/plain": [
       "   Unnamed: 0  Id  SepalLengthCm  SepalWidthCm  PetalLengthCm  PetalWidthCm  \\\n",
       "0           0   1            5.1           3.5            1.4             0   \n",
       "1           1   2            4.9           3.0            1.4             0   \n",
       "2           2   3            NaN           3.2            1.3             0   \n",
       "3           3   4            4.6           3.1            1.5             0   \n",
       "4           4   5            5.0           3.6            1.4             0   \n",
       "\n",
       "       Species  \n",
       "0  Iris-setosa  \n",
       "1  Iris-setosa  \n",
       "2  Iris-setosa  \n",
       "3  Iris-setosa  \n",
       "4  Iris-setosa  "
      ]
     },
     "execution_count": 55,
     "metadata": {},
     "output_type": "execute_result"
    }
   ],
   "source": [
    "ff.head()"
   ]
  },
  {
   "cell_type": "code",
   "execution_count": 56,
   "id": "9335b7e6",
   "metadata": {},
   "outputs": [
    {
     "data": {
      "text/plain": [
       "Unnamed: 0       0\n",
       "Id               0\n",
       "SepalLengthCm    4\n",
       "SepalWidthCm     4\n",
       "PetalLengthCm    3\n",
       "PetalWidthCm     0\n",
       "Species          5\n",
       "dtype: int64"
      ]
     },
     "execution_count": 56,
     "metadata": {},
     "output_type": "execute_result"
    }
   ],
   "source": [
    "ff.isna().sum()"
   ]
  },
  {
   "cell_type": "code",
   "execution_count": 57,
   "id": "55f70fa4",
   "metadata": {},
   "outputs": [],
   "source": [
    "ff['SepalLengthCm'].fillna(ff['SepalLengthCm'].median(),inplace=True)               ##Replacing Missing values"
   ]
  },
  {
   "cell_type": "code",
   "execution_count": 58,
   "id": "6c694481",
   "metadata": {},
   "outputs": [],
   "source": [
    "ff['SepalWidthCm'].fillna(ff['SepalWidthCm'].median(),inplace=True)"
   ]
  },
  {
   "cell_type": "code",
   "execution_count": 59,
   "id": "99070761",
   "metadata": {},
   "outputs": [],
   "source": [
    "ff['PetalLengthCm'].fillna(ff['PetalLengthCm'].median(),inplace=True)"
   ]
  },
  {
   "cell_type": "code",
   "execution_count": 60,
   "id": "956219a3",
   "metadata": {},
   "outputs": [],
   "source": [
    "ff['Species'].fillna(ff['Species'].mode()[0],inplace=True)"
   ]
  },
  {
   "cell_type": "code",
   "execution_count": 61,
   "id": "a44cd2f2",
   "metadata": {},
   "outputs": [
    {
     "data": {
      "text/plain": [
       "Unnamed: 0       0\n",
       "Id               0\n",
       "SepalLengthCm    0\n",
       "SepalWidthCm     0\n",
       "PetalLengthCm    0\n",
       "PetalWidthCm     0\n",
       "Species          0\n",
       "dtype: int64"
      ]
     },
     "execution_count": 61,
     "metadata": {},
     "output_type": "execute_result"
    }
   ],
   "source": [
    "ff.isna().sum()"
   ]
  },
  {
   "cell_type": "code",
   "execution_count": 62,
   "id": "2aee3781",
   "metadata": {},
   "outputs": [],
   "source": [
    "sl = (ff[\"SepalLengthCm\"]<0.5) | (ff[\"SepalLengthCm\"]>8)\n",
    "pl = (ff['PetalLengthCm']< 0.5) | (ff['PetalLengthCm']> 7)       ##Outliner \n",
    "sw = (ff['SepalWidthCm']<0.5 ) | (ff['SepalWidthCm']> 5)\n",
    "pw = (ff[\"PetalWidthCm\"]< 0) | (ff[\"PetalWidthCm\"]> 2)"
   ]
  },
  {
   "cell_type": "code",
   "execution_count": 63,
   "id": "dd505810",
   "metadata": {},
   "outputs": [],
   "source": [
    "ff[\"SepalLengthCm\"] = np.where(sl, ff[\"SepalLengthCm\"].median(),ff[\"SepalLengthCm\"])\n",
    "ff['PetalLengthCm'] = np.where(pl, ff['PetalLengthCm'].median(),ff['PetalLengthCm'])\n",
    "ff['SepalWidthCm'] = np.where(sw, ff['SepalWidthCm'].median(),ff['SepalWidthCm'])\n",
    "ff['PetalWidthCm'] = np.where(pw, ff['PetalWidthCm'].median(),ff['PetalWidthCm'])"
   ]
  },
  {
   "cell_type": "code",
   "execution_count": 65,
   "id": "08141934",
   "metadata": {},
   "outputs": [],
   "source": [
    "ff.drop('Unnamed: 0',axis = 1, inplace = True)\n",
    "ff.drop(\"Id\",axis = 1,inplace = True)"
   ]
  },
  {
   "cell_type": "code",
   "execution_count": 66,
   "id": "47998b50",
   "metadata": {},
   "outputs": [
    {
     "data": {
      "text/plain": [
       "18"
      ]
     },
     "execution_count": 66,
     "metadata": {},
     "output_type": "execute_result"
    }
   ],
   "source": [
    "sum(ff.duplicated())"
   ]
  },
  {
   "cell_type": "code",
   "execution_count": 68,
   "id": "85f6f88f",
   "metadata": {},
   "outputs": [],
   "source": [
    "ff.drop_duplicates(inplace=True)"
   ]
  },
  {
   "cell_type": "code",
   "execution_count": 71,
   "id": "fc71b0e8",
   "metadata": {},
   "outputs": [
    {
     "data": {
      "text/plain": [
       "0"
      ]
     },
     "execution_count": 71,
     "metadata": {},
     "output_type": "execute_result"
    }
   ],
   "source": [
    "sum(ff.duplicated())"
   ]
  },
  {
   "cell_type": "code",
   "execution_count": 72,
   "id": "fa6e5ceb",
   "metadata": {},
   "outputs": [
    {
     "name": "stdout",
     "output_type": "stream",
     "text": [
      "<class 'pandas.core.frame.DataFrame'>\n",
      "Int64Index: 142 entries, 0 to 149\n",
      "Data columns (total 5 columns):\n",
      " #   Column         Non-Null Count  Dtype  \n",
      "---  ------         --------------  -----  \n",
      " 0   SepalLengthCm  142 non-null    float64\n",
      " 1   SepalWidthCm   142 non-null    float64\n",
      " 2   PetalLengthCm  142 non-null    float64\n",
      " 3   PetalWidthCm   142 non-null    float64\n",
      " 4   Species        142 non-null    object \n",
      "dtypes: float64(4), object(1)\n",
      "memory usage: 6.7+ KB\n"
     ]
    }
   ],
   "source": [
    "ff.info()                          ##type casting"
   ]
  },
  {
   "cell_type": "code",
   "execution_count": 74,
   "id": "adbebd4f",
   "metadata": {},
   "outputs": [],
   "source": [
    "ff['SepalLengthCm']=ff['SepalLengthCm'].astype('float64')"
   ]
  },
  {
   "cell_type": "code",
   "execution_count": 77,
   "id": "6daf315c",
   "metadata": {},
   "outputs": [],
   "source": [
    "ff['SepalWidthCm']=ff['SepalWidthCm'].astype('float64')\n",
    "ff['PetalLengthCm']=ff['PetalLengthCm'].astype('float64')\n",
    "ff['PetalWidthCm']=ff['PetalWidthCm'].astype('float64')"
   ]
  },
  {
   "cell_type": "code",
   "execution_count": 78,
   "id": "81badbc8",
   "metadata": {},
   "outputs": [
    {
     "name": "stdout",
     "output_type": "stream",
     "text": [
      "<class 'pandas.core.frame.DataFrame'>\n",
      "Int64Index: 142 entries, 0 to 149\n",
      "Data columns (total 5 columns):\n",
      " #   Column         Non-Null Count  Dtype  \n",
      "---  ------         --------------  -----  \n",
      " 0   SepalLengthCm  142 non-null    float64\n",
      " 1   SepalWidthCm   142 non-null    float64\n",
      " 2   PetalLengthCm  142 non-null    float64\n",
      " 3   PetalWidthCm   142 non-null    float64\n",
      " 4   Species        142 non-null    object \n",
      "dtypes: float64(4), object(1)\n",
      "memory usage: 6.7+ KB\n"
     ]
    }
   ],
   "source": [
    "ff.info()"
   ]
  },
  {
   "cell_type": "code",
   "execution_count": null,
   "id": "faaa7d9e",
   "metadata": {},
   "outputs": [],
   "source": []
  }
 ],
 "metadata": {
  "kernelspec": {
   "display_name": "Python 3 (ipykernel)",
   "language": "python",
   "name": "python3"
  },
  "language_info": {
   "codemirror_mode": {
    "name": "ipython",
    "version": 3
   },
   "file_extension": ".py",
   "mimetype": "text/x-python",
   "name": "python",
   "nbconvert_exporter": "python",
   "pygments_lexer": "ipython3",
   "version": "3.11.4"
  }
 },
 "nbformat": 4,
 "nbformat_minor": 5
}
