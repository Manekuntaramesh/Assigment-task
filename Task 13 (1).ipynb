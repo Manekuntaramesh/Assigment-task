{
 "cells": [
  {
   "cell_type": "markdown",
   "id": "89ffda57",
   "metadata": {},
   "source": [
    "1. Write a function called \"add_numbers\" that takes two integers as input and returns their sum.\n",
    "\n",
    "2. Write a function called \"multiply_numbers\" that takes two integers as input and returns their product.\n",
    "\n",
    "3. Write a function called \"calculate_average\" that takes a list of numbers as input and returns the average of thosenumbers.\n",
    "\n",
    "4. Write a function called \"is_even\" that takes an integer as input and returns True if the number is even, and False otherwise.\n",
    "\n",
    "5. Write a function called \"reverse_string\" that takes a string as input and returns the reverse of that string.\n",
    "\n",
    "6. Write a function called \"count_vowels\" that takes a string as input and returns the number of vowels (a, e, i, o, u) in that string.\n",
    "\n",
    "7. Write a function called \"find_max\" that takes a list of numbers as input and returns the maximum value in that list.\n",
    "\n",
    "8. Write a function called \"find_min\" that takes a list of numbers as input and returns the minimum value in that list."
   ]
  },
  {
   "cell_type": "markdown",
   "id": "edb2d088",
   "metadata": {},
   "source": [
    "1. Write a function called \"add_numbers\" that takes two integers as input and returns their sum.\n"
   ]
  },
  {
   "cell_type": "code",
   "execution_count": 4,
   "id": "c1750288",
   "metadata": {},
   "outputs": [
    {
     "name": "stdout",
     "output_type": "stream",
     "text": [
      "Enter number :: 99\n",
      "Enter number :: 00\n",
      "99\n"
     ]
    }
   ],
   "source": [
    "def add(num1,num2):\n",
    "    print(num1+num2)\n",
    "    \n",
    "num1=int(input(\"Enter number :: \"))\n",
    "num2=int(input(\"Enter number :: \"))\n",
    "add(num1,num2)\n"
   ]
  },
  {
   "cell_type": "markdown",
   "id": "a53fe03e",
   "metadata": {},
   "source": [
    "2. Write a function called \"multiply_numbers\" that takes two integers as input and returns their product."
   ]
  },
  {
   "cell_type": "code",
   "execution_count": 5,
   "id": "81316680",
   "metadata": {},
   "outputs": [
    {
     "name": "stdout",
     "output_type": "stream",
     "text": [
      "Enter number :: 66\n",
      "Enter number :: 99\n",
      "6534\n"
     ]
    }
   ],
   "source": [
    "def multipy(num1,num2):\n",
    "    print(num1*num2)\n",
    "    \n",
    "num1=int(input(\"Enter number :: \"))\n",
    "num2=int(input(\"Enter number :: \"))\n",
    "multipy(num1,num2)\n"
   ]
  },
  {
   "cell_type": "markdown",
   "id": "ee9c6dc8",
   "metadata": {},
   "source": [
    "3. Write a function called \"calculate_average\" that takes a list of numbers as input and returns the average of thosenumbers.\n"
   ]
  },
  {
   "cell_type": "code",
   "execution_count": 17,
   "id": "a41bc60d",
   "metadata": {},
   "outputs": [
    {
     "name": "stdout",
     "output_type": "stream",
     "text": [
      "4.714285714285714\n"
     ]
    }
   ],
   "source": [
    "n=[1,3,4,5,8,9,3]\n",
    "\n",
    "def calculate_average(a,b):\n",
    "    print(a/b)\n",
    "calculate_average(a=sum(n),b=len(n))\n"
   ]
  },
  {
   "cell_type": "markdown",
   "id": "89e0fcee",
   "metadata": {},
   "source": [
    "4. Write a function called \"is_even\" that takes an integer as input and returns True if the number is even, and False otherwise."
   ]
  },
  {
   "cell_type": "code",
   "execution_count": 23,
   "id": "fe989a6f",
   "metadata": {},
   "outputs": [
    {
     "name": "stdout",
     "output_type": "stream",
     "text": [
      "true\n"
     ]
    }
   ],
   "source": [
    "def is_even(a):\n",
    "    if a%2==0 :\n",
    "        print(\"true\")\n",
    "    else:\n",
    "        print(\"flase\")\n",
    "is_even(10)"
   ]
  },
  {
   "cell_type": "markdown",
   "id": "02fb7871",
   "metadata": {},
   "source": [
    "5. Write a function called \"reverse_string\" that takes a string as input and returns the reverse of that string.m"
   ]
  },
  {
   "cell_type": "code",
   "execution_count": 25,
   "id": "0d1f5c66",
   "metadata": {},
   "outputs": [
    {
     "name": "stdout",
     "output_type": "stream",
     "text": [
      "fuydkbfukd\n"
     ]
    }
   ],
   "source": [
    "def reverse_string(x):\n",
    "    print(x[-1::-1])\n",
    "reverse_string(\"dkufbkdyuf\")"
   ]
  },
  {
   "cell_type": "markdown",
   "id": "d916f896",
   "metadata": {},
   "source": [
    "6. Write a function called \"count_vowels\" that takes a string as input and returns the number of vowels (a, e, i, o, u) in that string."
   ]
  },
  {
   "cell_type": "code",
   "execution_count": 31,
   "id": "f6e84113",
   "metadata": {},
   "outputs": [
    {
     "name": "stdout",
     "output_type": "stream",
     "text": [
      "['e', 'a', 'i', 'o', 'o']\n",
      "Number of vowels :  5\n"
     ]
    }
   ],
   "source": [
    "vowels = ['a','e','i','o','u']\n",
    "\n",
    "y = []\n",
    "def count_vowels(x):\n",
    "    for i in x:\n",
    "        if i in vowels:\n",
    "            y.append(i)\n",
    "    print(y)\n",
    "    print(\"Number of vowels : \",len(y))\n",
    "count_vowels(\"the man with fool\")"
   ]
  },
  {
   "cell_type": "markdown",
   "id": "2ca0ecde",
   "metadata": {},
   "source": [
    "7. Write a function called \"find_max\" that takes a list of numbers as input and returns the maximum value in that list."
   ]
  },
  {
   "cell_type": "code",
   "execution_count": 34,
   "id": "4a1a56fa",
   "metadata": {},
   "outputs": [
    {
     "name": "stdout",
     "output_type": "stream",
     "text": [
      "max no of the list:  89\n"
     ]
    }
   ],
   "source": [
    "def find_max(y):\n",
    "    print(\"max no of the list: \",max(y))\n",
    "find_max([11,44,66,89,44])"
   ]
  },
  {
   "cell_type": "markdown",
   "id": "fbffd114",
   "metadata": {},
   "source": [
    "8. Write a function called \"find_min\" that takes a list of numbers as input and returns the minimum value in that list."
   ]
  },
  {
   "cell_type": "code",
   "execution_count": 35,
   "id": "a141a7a9",
   "metadata": {},
   "outputs": [
    {
     "name": "stdout",
     "output_type": "stream",
     "text": [
      "mini no of the list:  11\n"
     ]
    }
   ],
   "source": [
    "def find_min(x):\n",
    "    print(\"mini no of the list: \",min(x))\n",
    "find_min([11,44,66,89,44])\n"
   ]
  },
  {
   "cell_type": "code",
   "execution_count": null,
   "id": "81c30cb0",
   "metadata": {},
   "outputs": [],
   "source": []
  }
 ],
 "metadata": {
  "kernelspec": {
   "display_name": "Python 3 (ipykernel)",
   "language": "python",
   "name": "python3"
  },
  "language_info": {
   "codemirror_mode": {
    "name": "ipython",
    "version": 3
   },
   "file_extension": ".py",
   "mimetype": "text/x-python",
   "name": "python",
   "nbconvert_exporter": "python",
   "pygments_lexer": "ipython3",
   "version": "3.11.4"
  }
 },
 "nbformat": 4,
 "nbformat_minor": 5
}
