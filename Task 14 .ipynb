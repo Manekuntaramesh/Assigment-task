{
 "cells": [
  {
   "cell_type": "markdown",
   "id": "61a99251",
   "metadata": {},
   "source": [
    "1. Create a lambda function that takes two arguments and returns their sum."
   ]
  },
  {
   "cell_type": "code",
   "execution_count": 1,
   "id": "360ec284",
   "metadata": {},
   "outputs": [],
   "source": [
    "a = lambda x,y: x+y"
   ]
  },
  {
   "cell_type": "code",
   "execution_count": 2,
   "id": "86910341",
   "metadata": {},
   "outputs": [
    {
     "data": {
      "text/plain": [
       "17"
      ]
     },
     "execution_count": 2,
     "metadata": {},
     "output_type": "execute_result"
    }
   ],
   "source": [
    "a(8,9)"
   ]
  },
  {
   "cell_type": "markdown",
   "id": "a95f2d7e",
   "metadata": {},
   "source": [
    "1.1 Create another lambda function that takes a single argument and returns its square."
   ]
  },
  {
   "cell_type": "code",
   "execution_count": 4,
   "id": "526f8b68",
   "metadata": {},
   "outputs": [],
   "source": [
    "a = lambda x: x**2"
   ]
  },
  {
   "cell_type": "code",
   "execution_count": 5,
   "id": "6eec3951",
   "metadata": {},
   "outputs": [
    {
     "data": {
      "text/plain": [
       "16"
      ]
     },
     "execution_count": 5,
     "metadata": {},
     "output_type": "execute_result"
    }
   ],
   "source": [
    "a(4)"
   ]
  },
  {
   "cell_type": "markdown",
   "id": "ae18d7f8",
   "metadata": {},
   "source": [
    "1.3 Use the lambda functions to calculate the sum and square of various numbers and print the results."
   ]
  },
  {
   "cell_type": "code",
   "execution_count": 7,
   "id": "c27c6282",
   "metadata": {},
   "outputs": [],
   "source": [
    "add = lambda *n : sum(n)      "
   ]
  },
  {
   "cell_type": "code",
   "execution_count": 8,
   "id": "afa3726a",
   "metadata": {},
   "outputs": [
    {
     "data": {
      "text/plain": [
       "1310"
      ]
     },
     "execution_count": 8,
     "metadata": {},
     "output_type": "execute_result"
    }
   ],
   "source": [
    "add(22,444,66,778)"
   ]
  },
  {
   "cell_type": "code",
   "execution_count": 13,
   "id": "8031ae93",
   "metadata": {},
   "outputs": [],
   "source": [
    "list1 = [5,4,3,2,8]\n",
    "square = lambda x: x**2"
   ]
  },
  {
   "cell_type": "code",
   "execution_count": 14,
   "id": "bd38229a",
   "metadata": {},
   "outputs": [
    {
     "data": {
      "text/plain": [
       "[25, 16, 9, 4, 64]"
      ]
     },
     "execution_count": 14,
     "metadata": {},
     "output_type": "execute_result"
    }
   ],
   "source": [
    "list(map(lambda n : n**2  , list1))"
   ]
  },
  {
   "cell_type": "markdown",
   "id": "de24f543",
   "metadata": {},
   "source": [
    "2. Define a list of integers.Use the filter function to create a new list that contains only the even numbers from the original list.Print both filtered lists."
   ]
  },
  {
   "cell_type": "code",
   "execution_count": 15,
   "id": "eefd213b",
   "metadata": {},
   "outputs": [],
   "source": [
    "original = [4,5,6,8,33,55,77,99]"
   ]
  },
  {
   "cell_type": "code",
   "execution_count": 16,
   "id": "23f417e8",
   "metadata": {},
   "outputs": [],
   "source": [
    "def even(a):\n",
    "    if a%2==0:\n",
    "        return a\n",
    "    else:\n",
    "        pass"
   ]
  },
  {
   "cell_type": "code",
   "execution_count": 18,
   "id": "1ebbf69e",
   "metadata": {},
   "outputs": [],
   "source": [
    "evenlist = list(filter(even, original))"
   ]
  },
  {
   "cell_type": "code",
   "execution_count": 19,
   "id": "acf7509a",
   "metadata": {},
   "outputs": [
    {
     "name": "stdout",
     "output_type": "stream",
     "text": [
      "even numbers are  [4, 6, 8]\n"
     ]
    }
   ],
   "source": [
    "print(\"even numbers are \", evenlist)"
   ]
  },
  {
   "cell_type": "markdown",
   "id": "c3d29991",
   "metadata": {},
   "source": [
    "2.2 Use the filter function again to create a new list that contains only numbers greater than 10 from the original list."
   ]
  },
  {
   "cell_type": "code",
   "execution_count": 20,
   "id": "52de7687",
   "metadata": {},
   "outputs": [],
   "source": [
    "original = [1,2,3,5,6,8,9]"
   ]
  },
  {
   "cell_type": "code",
   "execution_count": 21,
   "id": "076b2780",
   "metadata": {},
   "outputs": [],
   "source": [
    "def greater(b):\n",
    "    if b>10:\n",
    "        return b\n",
    "    else:\n",
    "        pass"
   ]
  },
  {
   "cell_type": "code",
   "execution_count": 22,
   "id": "fc07429f",
   "metadata": {},
   "outputs": [],
   "source": [
    "greater = list(filter(greater,original))"
   ]
  },
  {
   "cell_type": "code",
   "execution_count": 24,
   "id": "fda082ef",
   "metadata": {},
   "outputs": [
    {
     "name": "stdout",
     "output_type": "stream",
     "text": [
      "greater than 10 numbers from the list are []\n"
     ]
    }
   ],
   "source": [
    "print(\"greater than 10 numbers from the list are\", greater)"
   ]
  },
  {
   "cell_type": "markdown",
   "id": "aa28b298",
   "metadata": {},
   "source": [
    "3. Define a list of strings where each string represents a number (e.g., [\"1\", \"2\", \"3\"])."
   ]
  },
  {
   "cell_type": "code",
   "execution_count": 26,
   "id": "a2025464",
   "metadata": {},
   "outputs": [],
   "source": [
    "liststring =  [\"1\", \"2\", \"3\"]"
   ]
  },
  {
   "cell_type": "markdown",
   "id": "9e41a33e",
   "metadata": {},
   "source": [
    "3.1 Use the map function to convert each string to an integer and store the result in a new list"
   ]
  },
  {
   "cell_type": "code",
   "execution_count": 28,
   "id": "152f7922",
   "metadata": {},
   "outputs": [],
   "source": [
    "def string(n):\n",
    "    if liststring[0] == int(n):\n",
    "        return n"
   ]
  },
  {
   "cell_type": "code",
   "execution_count": 29,
   "id": "3c28799b",
   "metadata": {},
   "outputs": [
    {
     "data": {
      "text/plain": [
       "[1, 2, 3]"
      ]
     },
     "execution_count": 29,
     "metadata": {},
     "output_type": "execute_result"
    }
   ],
   "source": [
    "newlists = list(map(int,liststring))\n",
    "newlists"
   ]
  },
  {
   "cell_type": "markdown",
   "id": "d89dc2b6",
   "metadata": {},
   "source": [
    "3.2 Use the map function again to square each integer in the new list and store the result in another new list."
   ]
  },
  {
   "cell_type": "code",
   "execution_count": 30,
   "id": "1c9f382d",
   "metadata": {},
   "outputs": [
    {
     "data": {
      "text/plain": [
       "[1, 2, 3]"
      ]
     },
     "execution_count": 30,
     "metadata": {},
     "output_type": "execute_result"
    }
   ],
   "source": [
    "newlists"
   ]
  },
  {
   "cell_type": "code",
   "execution_count": 37,
   "id": "cf032ff6",
   "metadata": {},
   "outputs": [],
   "source": [
    "def square(n):\n",
    "    if n > 0:\n",
    "        return n*n\n",
    "    else:\n",
    "        pass"
   ]
  },
  {
   "cell_type": "code",
   "execution_count": 32,
   "id": "ff4a9f8d",
   "metadata": {},
   "outputs": [
    {
     "name": "stdout",
     "output_type": "stream",
     "text": [
      "square of a each number from the list [1, 4, 9]\n"
     ]
    }
   ],
   "source": [
    "squarelist = list(map(square,newlists))\n",
    "print(\"square of a each number from the list\" ,squarelist)"
   ]
  },
  {
   "cell_type": "markdown",
   "id": "bb619f5e",
   "metadata": {},
   "source": [
    "4 Create a list of dictionaries, where each dictionary represents a person with keys \"name\" and \"age\". Example: [{\"name\": \"Alice\", \"age\": 30}, {\"name\": \"Bob\", \"age\": 25}, ...]"
   ]
  },
  {
   "cell_type": "code",
   "execution_count": 33,
   "id": "aa8444d1",
   "metadata": {},
   "outputs": [],
   "source": [
    "info =  [{\"name\": \"ram\", \"age\": 20}, {\"name\": \"Deeppika\", \"age\": 35}, {\"name\": \"Kamal\", \"age\": 20} ]"
   ]
  },
  {
   "cell_type": "markdown",
   "id": "b3cf0ea0",
   "metadata": {},
   "source": [
    "4.1 Use the filter function to create a new list that contains only the people who are older than 25."
   ]
  },
  {
   "cell_type": "code",
   "execution_count": 38,
   "id": "7d07410c",
   "metadata": {},
   "outputs": [],
   "source": [
    "def older(n):\n",
    "    if n[\"age\"] >= 25:\n",
    "        return n"
   ]
  },
  {
   "cell_type": "code",
   "execution_count": 36,
   "id": "dfc073ee",
   "metadata": {},
   "outputs": [
    {
     "data": {
      "text/plain": [
       "[{'name': 'Deeppika', 'age': 35}]"
      ]
     },
     "execution_count": 36,
     "metadata": {},
     "output_type": "execute_result"
    }
   ],
   "source": [
    "olderlist = list(filter(older,info))\n",
    "olderlist"
   ]
  },
  {
   "cell_type": "markdown",
   "id": "a3b889fe",
   "metadata": {},
   "source": [
    "Use the map function to create a new list that contains the names of the filtered people.\n",
    "Print the list of names."
   ]
  },
  {
   "cell_type": "code",
   "execution_count": 39,
   "id": "b9ee8d43",
   "metadata": {},
   "outputs": [],
   "source": [
    "def name1(n):\n",
    "    return {\"name\" : n[\"name\"]}"
   ]
  },
  {
   "cell_type": "code",
   "execution_count": 40,
   "id": "01422cf4",
   "metadata": {},
   "outputs": [
    {
     "data": {
      "text/plain": [
       "[{'name': 'Deeppika'}]"
      ]
     },
     "execution_count": 40,
     "metadata": {},
     "output_type": "execute_result"
    }
   ],
   "source": [
    "filteredlist = list(map(name1,olderlist))\n",
    "filteredlist"
   ]
  },
  {
   "cell_type": "code",
   "execution_count": 41,
   "id": "e6d45dae",
   "metadata": {},
   "outputs": [],
   "source": [
    "list1 = []"
   ]
  },
  {
   "cell_type": "code",
   "execution_count": 43,
   "id": "e81eba5f",
   "metadata": {},
   "outputs": [
    {
     "name": "stdout",
     "output_type": "stream",
     "text": [
      "enter the number of integers u want : 3\n",
      "enter the number: 1\n",
      "enter the number: 2\n",
      "enter the number: 3\n",
      "[7, 4, 4, 3, 2, 2, 2, 1, 2, 3]\n"
     ]
    }
   ],
   "source": [
    "n = int(input(\"enter the number of integers u want : \"))\n",
    "for i in range(1,n+1):\n",
    "    a= int(input(\"enter the number: \"))\n",
    "    list1.append(a)\n",
    "print(list1)"
   ]
  },
  {
   "cell_type": "code",
   "execution_count": 44,
   "id": "0213c369",
   "metadata": {},
   "outputs": [],
   "source": [
    "def square(n) :\n",
    "    return n*n"
   ]
  },
  {
   "cell_type": "code",
   "execution_count": 46,
   "id": "461fad17",
   "metadata": {},
   "outputs": [
    {
     "name": "stdout",
     "output_type": "stream",
     "text": [
      "[49, 16, 16, 9, 4, 4, 4, 1, 4, 9]\n"
     ]
    }
   ],
   "source": [
    "list2 = list(map(square,list1))\n",
    "print(list2)"
   ]
  },
  {
   "cell_type": "code",
   "execution_count": 47,
   "id": "69884355",
   "metadata": {},
   "outputs": [],
   "source": [
    "def div(n):\n",
    "    if n%3 != 0:\n",
    "        return n\n",
    "    else:\n",
    "        pass"
   ]
  },
  {
   "cell_type": "code",
   "execution_count": 49,
   "id": "65fbebb8",
   "metadata": {},
   "outputs": [
    {
     "data": {
      "text/plain": [
       "[49, 16, 16, 4, 4, 4, 1, 4]"
      ]
     },
     "execution_count": 49,
     "metadata": {},
     "output_type": "execute_result"
    }
   ],
   "source": [
    "not3 = list(filter(div,list2))\n",
    "not3"
   ]
  },
  {
   "cell_type": "code",
   "execution_count": null,
   "id": "39be018c",
   "metadata": {},
   "outputs": [],
   "source": []
  }
 ],
 "metadata": {
  "kernelspec": {
   "display_name": "Python 3 (ipykernel)",
   "language": "python",
   "name": "python3"
  },
  "language_info": {
   "codemirror_mode": {
    "name": "ipython",
    "version": 3
   },
   "file_extension": ".py",
   "mimetype": "text/x-python",
   "name": "python",
   "nbconvert_exporter": "python",
   "pygments_lexer": "ipython3",
   "version": "3.11.4"
  }
 },
 "nbformat": 4,
 "nbformat_minor": 5
}
