{
 "cells": [
  {
   "cell_type": "markdown",
   "id": "f02710a3",
   "metadata": {},
   "source": [
    "\n",
    "**Task 1: Dictionary Basics**\n",
    "Create a Python program that defines a dictionary to store information about your `favorite book`. Include the title, author, publication year, and genre as key-value pairs. Print out the dictionary.and do atleast 5 dictionary methods on it.\n",
    "\n",
    "**Task 2: Dictionary Lookup**\n",
    "Write a Python program that simulates a simple dictionary for translating `English words to Spanish`. Define a dictionary containing a few English words as `keys` and their corresponding Spanish translations as `values`. Allow `users to enter` an English word, and then display its Spanish translation `if it exists` in the dictionary.(use google for English to Spanish translator)\n",
    "\n",
    "**Task 3: Student Grades**\n",
    "Create a Python program that stores the `grades of five students` in a dictionary. Allow users to input the names of the students and their respective grades. Calculate and display the `average grade` of the students.\n",
    "\n",
    "**Task 4: Contact List**\n",
    "Build a basic contact list using a dictionary. Initially, the dictionary can be `empty`. Allow users to `add new contacts` with `names and phone numbers`. Users should also be able to search for contacts by name and display their phone numbers(use in operator).\n",
    "\n",
    "**Task 5: Dictionary Iteration**\n",
    "Write a Python program that defines a dictionary containing the names of `fruits as keys` and their corresponding `colors as values` (e.g., 'apple': 'red').Do atleast 5 dictionary methods on it.\n"
   ]
  },
  {
   "cell_type": "code",
   "execution_count": 10,
   "id": "f7f1c72f",
   "metadata": {},
   "outputs": [],
   "source": [
    "fav_b={\"title\":\"My with my daridam\",\"author\":\"GREAT ROCKY\",\"PBY\":\"2023\"}       #1"
   ]
  },
  {
   "cell_type": "code",
   "execution_count": 11,
   "id": "5caa61ca",
   "metadata": {},
   "outputs": [
    {
     "data": {
      "text/plain": [
       "{'title': 'My with my daridam', 'author': 'GREAT ROCKY', 'PBY': '2023'}"
      ]
     },
     "execution_count": 11,
     "metadata": {},
     "output_type": "execute_result"
    }
   ],
   "source": [
    "fav_b"
   ]
  },
  {
   "cell_type": "code",
   "execution_count": 12,
   "id": "6c9d59df",
   "metadata": {},
   "outputs": [
    {
     "data": {
      "text/plain": [
       "dict"
      ]
     },
     "execution_count": 12,
     "metadata": {},
     "output_type": "execute_result"
    }
   ],
   "source": [
    "type(fav_b)"
   ]
  },
  {
   "cell_type": "code",
   "execution_count": 13,
   "id": "dafa538a",
   "metadata": {},
   "outputs": [
    {
     "data": {
      "text/plain": [
       "dict_values(['My with my daridam', 'GREAT ROCKY', '2023'])"
      ]
     },
     "execution_count": 13,
     "metadata": {},
     "output_type": "execute_result"
    }
   ],
   "source": [
    "fav_b.values()        "
   ]
  },
  {
   "cell_type": "code",
   "execution_count": 14,
   "id": "8af4a191",
   "metadata": {},
   "outputs": [
    {
     "data": {
      "text/plain": [
       "dict_keys(['title', 'author', 'PBY'])"
      ]
     },
     "execution_count": 14,
     "metadata": {},
     "output_type": "execute_result"
    }
   ],
   "source": [
    "fav_b.keys()"
   ]
  },
  {
   "cell_type": "code",
   "execution_count": 15,
   "id": "6dfe68aa",
   "metadata": {},
   "outputs": [],
   "source": [
    "fav_b=dict(((\"title\",\"My with my daridam\"),(\"author\",\"GREAT ROCKY\")))   # 2"
   ]
  },
  {
   "cell_type": "code",
   "execution_count": 9,
   "id": "e6c266d2",
   "metadata": {},
   "outputs": [
    {
     "data": {
      "text/plain": [
       "{'title': 'My with my daridam', 'author': 'GREAT ROCKY'}"
      ]
     },
     "execution_count": 9,
     "metadata": {},
     "output_type": "execute_result"
    }
   ],
   "source": [
    "fav_b"
   ]
  },
  {
   "cell_type": "code",
   "execution_count": 16,
   "id": "79dad997",
   "metadata": {},
   "outputs": [],
   "source": [
    "keys=[\"title\",\"author\",\"PBY\"]\n",
    "values=[\"ME with my daridam\",\"GREAT ROCKY\",\"2013\"]\n",
    "lang=dict(zip(keys,values))                                       #3"
   ]
  },
  {
   "cell_type": "code",
   "execution_count": 17,
   "id": "fa99c665",
   "metadata": {},
   "outputs": [
    {
     "data": {
      "text/plain": [
       "{'title': 'ME with my daridam', 'author': 'GREAT ROCKY', 'PBY': '2013'}"
      ]
     },
     "execution_count": 17,
     "metadata": {},
     "output_type": "execute_result"
    }
   ],
   "source": [
    "lang            "
   ]
  },
  {
   "cell_type": "code",
   "execution_count": 18,
   "id": "ffc77148",
   "metadata": {},
   "outputs": [],
   "source": [
    "fav_b.update({\"prices\":\"1L\"})"
   ]
  },
  {
   "cell_type": "code",
   "execution_count": 19,
   "id": "6d3a8422",
   "metadata": {},
   "outputs": [
    {
     "data": {
      "text/plain": [
       "{'title': 'My with my daridam', 'author': 'GREAT ROCKY', 'prices': '1L'}"
      ]
     },
     "execution_count": 19,
     "metadata": {},
     "output_type": "execute_result"
    }
   ],
   "source": [
    "fav_b"
   ]
  },
  {
   "cell_type": "code",
   "execution_count": 20,
   "id": "77d8f8e3",
   "metadata": {},
   "outputs": [
    {
     "data": {
      "text/plain": [
       "dict_items([('title', 'My with my daridam'), ('author', 'GREAT ROCKY'), ('prices', '1L')])"
      ]
     },
     "execution_count": 20,
     "metadata": {},
     "output_type": "execute_result"
    }
   ],
   "source": [
    "fav_b.items()"
   ]
  },
  {
   "cell_type": "code",
   "execution_count": 21,
   "id": "f4f43074",
   "metadata": {},
   "outputs": [],
   "source": [
    "#2"
   ]
  },
  {
   "cell_type": "code",
   "execution_count": 22,
   "id": "0e0f78a4",
   "metadata": {},
   "outputs": [],
   "source": [
    "tran={\"life\":\"vida\",\"happy\":\"feliz\",\"love\":\"amar\"}"
   ]
  },
  {
   "cell_type": "code",
   "execution_count": 23,
   "id": "156ff182",
   "metadata": {},
   "outputs": [
    {
     "data": {
      "text/plain": [
       "{'life': 'vida', 'happy': 'feliz', 'love': 'amar'}"
      ]
     },
     "execution_count": 23,
     "metadata": {},
     "output_type": "execute_result"
    }
   ],
   "source": [
    "tran"
   ]
  },
  {
   "cell_type": "code",
   "execution_count": 24,
   "id": "10ae098f",
   "metadata": {},
   "outputs": [
    {
     "data": {
      "text/plain": [
       "dict"
      ]
     },
     "execution_count": 24,
     "metadata": {},
     "output_type": "execute_result"
    }
   ],
   "source": [
    "type(tran)"
   ]
  },
  {
   "cell_type": "code",
   "execution_count": 26,
   "id": "c52fd687",
   "metadata": {},
   "outputs": [
    {
     "data": {
      "text/plain": [
       "'vida'"
      ]
     },
     "execution_count": 26,
     "metadata": {},
     "output_type": "execute_result"
    }
   ],
   "source": [
    "tran.get(\"life\")"
   ]
  },
  {
   "cell_type": "code",
   "execution_count": 30,
   "id": "b09be4de",
   "metadata": {},
   "outputs": [
    {
     "data": {
      "text/plain": [
       "'amar'"
      ]
     },
     "execution_count": 30,
     "metadata": {},
     "output_type": "execute_result"
    }
   ],
   "source": [
    "tran.get(\"love\")"
   ]
  },
  {
   "cell_type": "code",
   "execution_count": 31,
   "id": "6e2e16b3",
   "metadata": {},
   "outputs": [],
   "source": [
    "#3"
   ]
  },
  {
   "cell_type": "code",
   "execution_count": 32,
   "id": "3fe469ea",
   "metadata": {},
   "outputs": [
    {
     "name": "stdout",
     "output_type": "stream",
     "text": [
      "Enter student name ? : ram\n",
      "Grade Score : 99.0\n",
      "Enter student name ? : raj\n",
      "Grade Score : 89.0\n",
      "Enter student name ? : gan\n",
      "Grade Score : 91.0\n",
      "Enter student name ? : prem\n",
      "Grade Score : 70.0\n",
      "Enter student name ? : krish\n",
      "Grade Score : 99.0\n"
     ]
    }
   ],
   "source": [
    "grade={}\n",
    "\n",
    "std_name1=input(\"Enter student name ? : \")\n",
    "grad_sc=float(input(\"Grade Score : \"))\n",
    "\n",
    "std_name2=input(\"Enter student name ? : \")\n",
    "grad_sc=float(input(\"Grade Score : \"))\n",
    "\n",
    "std_name3=input(\"Enter student name ? : \")\n",
    "grad_sc=float(input(\"Grade Score : \"))\n",
    "\n",
    "std_name4=input(\"Enter student name ? : \")\n",
    "grad_sc=float(input(\"Grade Score : \"))\n",
    "\n",
    "std_name5=input(\"Enter student name ? : \")\n",
    "grad_sc=float(input(\"Grade Score : \"))"
   ]
  },
  {
   "cell_type": "code",
   "execution_count": 35,
   "id": "3d1e3faf",
   "metadata": {},
   "outputs": [],
   "source": [
    "grade.update({std_name1:grad_sc,std_name2:grad_sc,std_name3:grad_sc,std_name4:grad_sc,std_name5:grad_sc})"
   ]
  },
  {
   "cell_type": "code",
   "execution_count": 36,
   "id": "5b0d98c9",
   "metadata": {},
   "outputs": [
    {
     "data": {
      "text/plain": [
       "{'ram': 99.0, 'raj': 99.0, 'gan': 99.0, 'prem': 99.0, 'krish': 99.0}"
      ]
     },
     "execution_count": 36,
     "metadata": {},
     "output_type": "execute_result"
    }
   ],
   "source": [
    "grade"
   ]
  },
  {
   "cell_type": "code",
   "execution_count": 37,
   "id": "302f6473",
   "metadata": {},
   "outputs": [],
   "source": [
    "total=sum(grade.values())"
   ]
  },
  {
   "cell_type": "code",
   "execution_count": 38,
   "id": "9abbe8fe",
   "metadata": {},
   "outputs": [
    {
     "data": {
      "text/plain": [
       "495.0"
      ]
     },
     "execution_count": 38,
     "metadata": {},
     "output_type": "execute_result"
    }
   ],
   "source": [
    "total"
   ]
  },
  {
   "cell_type": "code",
   "execution_count": 39,
   "id": "6cbaf931",
   "metadata": {},
   "outputs": [
    {
     "data": {
      "text/plain": [
       "5"
      ]
     },
     "execution_count": 39,
     "metadata": {},
     "output_type": "execute_result"
    }
   ],
   "source": [
    "len(grade)"
   ]
  },
  {
   "cell_type": "code",
   "execution_count": 42,
   "id": "30e6f616",
   "metadata": {},
   "outputs": [],
   "source": [
    "avg=total/5"
   ]
  },
  {
   "cell_type": "code",
   "execution_count": 43,
   "id": "9c3687bd",
   "metadata": {},
   "outputs": [
    {
     "data": {
      "text/plain": [
       "99.0"
      ]
     },
     "execution_count": 43,
     "metadata": {},
     "output_type": "execute_result"
    }
   ],
   "source": [
    "avg"
   ]
  },
  {
   "cell_type": "code",
   "execution_count": 44,
   "id": "082108dc",
   "metadata": {},
   "outputs": [],
   "source": [
    "#4"
   ]
  },
  {
   "cell_type": "code",
   "execution_count": 45,
   "id": "18997105",
   "metadata": {},
   "outputs": [
    {
     "name": "stdout",
     "output_type": "stream",
     "text": [
      "Enter name : ran\n",
      "Enter phone no : 6534573573\n",
      "Enter name : gfyu\n",
      "Enter phone no : 37465765\n"
     ]
    }
   ],
   "source": [
    "con={}\n",
    "\n",
    "name1=input(\"Enter name : \")\n",
    "cont=int(input(\"Enter phone no : \"))\n",
    "\n",
    "name2=input(\"Enter name : \")\n",
    "cont=int(input(\"Enter phone no : \"))\n"
   ]
  },
  {
   "cell_type": "code",
   "execution_count": 46,
   "id": "3d43d7e4",
   "metadata": {},
   "outputs": [],
   "source": [
    "con.update({name1:cont,name2:cont})"
   ]
  },
  {
   "cell_type": "code",
   "execution_count": 50,
   "id": "6b44c5db",
   "metadata": {},
   "outputs": [
    {
     "data": {
      "text/plain": [
       "'ran'"
      ]
     },
     "execution_count": 50,
     "metadata": {},
     "output_type": "execute_result"
    }
   ],
   "source": [
    "con"
   ]
  },
  {
   "cell_type": "code",
   "execution_count": 51,
   "id": "83eb54c5",
   "metadata": {},
   "outputs": [],
   "source": [
    "#5"
   ]
  },
  {
   "cell_type": "code",
   "execution_count": 52,
   "id": "33de87fb",
   "metadata": {},
   "outputs": [],
   "source": [
    "fav_f={\"apple\":\"red\",\"banan\":\"yellow\",\"mango\":\"green\"}"
   ]
  },
  {
   "cell_type": "code",
   "execution_count": 53,
   "id": "a8f57b81",
   "metadata": {},
   "outputs": [
    {
     "data": {
      "text/plain": [
       "{'apple': 'red', 'banan': 'yellow', 'mango': 'green'}"
      ]
     },
     "execution_count": 53,
     "metadata": {},
     "output_type": "execute_result"
    }
   ],
   "source": [
    "fav_f"
   ]
  },
  {
   "cell_type": "code",
   "execution_count": 54,
   "id": "fe701933",
   "metadata": {},
   "outputs": [
    {
     "data": {
      "text/plain": [
       "dict"
      ]
     },
     "execution_count": 54,
     "metadata": {},
     "output_type": "execute_result"
    }
   ],
   "source": [
    "type(fav_f)"
   ]
  },
  {
   "cell_type": "code",
   "execution_count": 55,
   "id": "a30ae825",
   "metadata": {},
   "outputs": [],
   "source": [
    "keys=[\"apple\",\"banana\",\"mango\"]\n",
    "values=[\"red\",\"yellow\",\"green\"]\n",
    "lang=dict(zip(keys,values))"
   ]
  },
  {
   "cell_type": "code",
   "execution_count": 56,
   "id": "b58cc99e",
   "metadata": {},
   "outputs": [
    {
     "data": {
      "text/plain": [
       "{'apple': 'red', 'banana': 'yellow', 'mango': 'green'}"
      ]
     },
     "execution_count": 56,
     "metadata": {},
     "output_type": "execute_result"
    }
   ],
   "source": [
    "lang"
   ]
  },
  {
   "cell_type": "code",
   "execution_count": 57,
   "id": "7138ce04",
   "metadata": {},
   "outputs": [
    {
     "data": {
      "text/plain": [
       "{'apple': 'red', 'banan': 'yellow', 'mango': 'green'}"
      ]
     },
     "execution_count": 57,
     "metadata": {},
     "output_type": "execute_result"
    }
   ],
   "source": [
    "fav_f"
   ]
  },
  {
   "cell_type": "code",
   "execution_count": null,
   "id": "50d65a14",
   "metadata": {},
   "outputs": [],
   "source": []
  },
  {
   "cell_type": "code",
   "execution_count": null,
   "id": "675ebdb0",
   "metadata": {},
   "outputs": [],
   "source": []
  }
 ],
 "metadata": {
  "kernelspec": {
   "display_name": "Python 3 (ipykernel)",
   "language": "python",
   "name": "python3"
  },
  "language_info": {
   "codemirror_mode": {
    "name": "ipython",
    "version": 3
   },
   "file_extension": ".py",
   "mimetype": "text/x-python",
   "name": "python",
   "nbconvert_exporter": "python",
   "pygments_lexer": "ipython3",
   "version": "3.11.4"
  }
 },
 "nbformat": 4,
 "nbformat_minor": 5
}
