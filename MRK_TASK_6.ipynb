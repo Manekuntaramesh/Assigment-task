{
 "cells": [
  {
   "cell_type": "markdown",
   "id": "83c1ad28",
   "metadata": {},
   "source": [
    "\n",
    "\n",
    "**Assignment Task 1:** Tuple Basics\n",
    "Create a Python tuple containing the names of your favorite fruits. Write a Python program to print `each fruit` name from the tuple.\n",
    "\n",
    "**Assignment Task 2:** Tuple Operations\n",
    "Given two tuples, write a Python program to `concatenate` them into a `single` tuple and then find the `length` of the resulting tuple.\n",
    "\n",
    "**Assignment Task 3:** Set Creation\n",
    "Create a Python set containing the first 10 `even` numbers (2, 4, 6, ...). Write a program to `display` this set.\n",
    "\n",
    "**Assignment Task 4:** Set Operations\n",
    "Given two sets, write a Python program to find the `union, intersection, and difference` of these sets.\n",
    "\n",
    "**Assignment Task 5:** Tuple and Set Conversion\n",
    "Write a Python program that takes a `tuple` of integers and converts it into a `set`. Then, find and print the `maximum and minimum` values from the set.\n",
    "\n",
    "**Assignment Task 6:** Tuple Immutability\n",
    "Explain the concept of immutability in Python tuples with examples. Discuss why tuples are considered immutable data structures.\n",
    "\n",
    "**Assignment Task 7:** Set Operations and Methods\n",
    "Write a Python program that takes a set of numbers and performs the following operations:\n",
    "   - Add a new number to the set.\n",
    "   - Remove a number from the set.\n",
    "   - Check if a specific number is in the set.\n",
    "   - Find the size of the set.\n",
    "\n",
    "**Assignment Task 8:** Tuple Slicing\n",
    "Given a tuple of 10 elements, write a Python program to print the elements from the `3rd to the 7th `position using slicing.\n",
    "\n",
    "**Assignment Task 9:** Set Operations with Lists\n",
    "Create a Python list with duplicate elements and convert it into a set to remove duplicates. Then, write a program to count how many duplicates were removed.\n",
    "\n",
    "**Assignment Task 10:** Tuple and Set Combinations\n",
    "Create a `tuple` containing the names of your friend's favorite movies and a `set` containing the names of your favorite movies. Write a Python program to find and display common elements (movies that feature your "
   ]
  },
  {
   "cell_type": "code",
   "execution_count": 1,
   "id": "35c913ca",
   "metadata": {},
   "outputs": [],
   "source": [
    "fruits=(\"apple\",\"banana\",\"mango\")"
   ]
  },
  {
   "cell_type": "code",
   "execution_count": 2,
   "id": "d298e4d5",
   "metadata": {},
   "outputs": [
    {
     "data": {
      "text/plain": [
       "('apple', 'banana', 'mango')"
      ]
     },
     "execution_count": 2,
     "metadata": {},
     "output_type": "execute_result"
    }
   ],
   "source": [
    "fruits"
   ]
  },
  {
   "cell_type": "code",
   "execution_count": 5,
   "id": "5615e272",
   "metadata": {},
   "outputs": [
    {
     "data": {
      "text/plain": [
       "'apple'"
      ]
     },
     "execution_count": 5,
     "metadata": {},
     "output_type": "execute_result"
    }
   ],
   "source": [
    "fruits[0]"
   ]
  },
  {
   "cell_type": "code",
   "execution_count": 6,
   "id": "088244ec",
   "metadata": {},
   "outputs": [
    {
     "data": {
      "text/plain": [
       "'banana'"
      ]
     },
     "execution_count": 6,
     "metadata": {},
     "output_type": "execute_result"
    }
   ],
   "source": [
    "fruits[1]"
   ]
  },
  {
   "cell_type": "code",
   "execution_count": 9,
   "id": "96380740",
   "metadata": {},
   "outputs": [
    {
     "data": {
      "text/plain": [
       "'mango'"
      ]
     },
     "execution_count": 9,
     "metadata": {},
     "output_type": "execute_result"
    }
   ],
   "source": [
    "fruits[2]"
   ]
  },
  {
   "cell_type": "code",
   "execution_count": 10,
   "id": "c7200f21",
   "metadata": {},
   "outputs": [],
   "source": [
    "#2"
   ]
  },
  {
   "cell_type": "code",
   "execution_count": 11,
   "id": "da165cc1",
   "metadata": {},
   "outputs": [],
   "source": [
    "fruits=(\"apple\",\"banana\",\"mango\")\n",
    "product=(\"watch\",\"phone\",\"earbodes\")"
   ]
  },
  {
   "cell_type": "code",
   "execution_count": 12,
   "id": "4cdc0c56",
   "metadata": {},
   "outputs": [],
   "source": [
    "mix=fruits+product"
   ]
  },
  {
   "cell_type": "code",
   "execution_count": 13,
   "id": "e4887102",
   "metadata": {},
   "outputs": [
    {
     "data": {
      "text/plain": [
       "('apple', 'banana', 'mango', 'watch', 'phone', 'earbodes')"
      ]
     },
     "execution_count": 13,
     "metadata": {},
     "output_type": "execute_result"
    }
   ],
   "source": [
    "mix"
   ]
  },
  {
   "cell_type": "code",
   "execution_count": 14,
   "id": "10abd1fb",
   "metadata": {},
   "outputs": [
    {
     "data": {
      "text/plain": [
       "6"
      ]
     },
     "execution_count": 14,
     "metadata": {},
     "output_type": "execute_result"
    }
   ],
   "source": [
    "len(mix)"
   ]
  },
  {
   "cell_type": "code",
   "execution_count": 15,
   "id": "d4ee21db",
   "metadata": {},
   "outputs": [],
   "source": [
    "#3"
   ]
  },
  {
   "cell_type": "code",
   "execution_count": 16,
   "id": "8084f95c",
   "metadata": {},
   "outputs": [],
   "source": [
    "num={2,4,6,8,10,12,14,16,18,20}"
   ]
  },
  {
   "cell_type": "code",
   "execution_count": 17,
   "id": "fa80d303",
   "metadata": {},
   "outputs": [
    {
     "data": {
      "text/plain": [
       "{2, 4, 6, 8, 10, 12, 14, 16, 18, 20}"
      ]
     },
     "execution_count": 17,
     "metadata": {},
     "output_type": "execute_result"
    }
   ],
   "source": [
    "num"
   ]
  },
  {
   "cell_type": "code",
   "execution_count": 18,
   "id": "0308d62e",
   "metadata": {},
   "outputs": [
    {
     "data": {
      "text/plain": [
       "set"
      ]
     },
     "execution_count": 18,
     "metadata": {},
     "output_type": "execute_result"
    }
   ],
   "source": [
    "type(num)"
   ]
  },
  {
   "cell_type": "code",
   "execution_count": 19,
   "id": "1f933988",
   "metadata": {},
   "outputs": [],
   "source": [
    "#4"
   ]
  },
  {
   "cell_type": "code",
   "execution_count": 22,
   "id": "e2c64ae7",
   "metadata": {},
   "outputs": [],
   "source": [
    "num1={1,2,3,4,5,6,7,8}\n",
    "num2={9,7,6,5,4,6,7}"
   ]
  },
  {
   "cell_type": "code",
   "execution_count": 23,
   "id": "9dac42c3",
   "metadata": {},
   "outputs": [
    {
     "data": {
      "text/plain": [
       "{1, 2, 3, 4, 5, 6, 7, 8, 9}"
      ]
     },
     "execution_count": 23,
     "metadata": {},
     "output_type": "execute_result"
    }
   ],
   "source": [
    "num1.union(num2)"
   ]
  },
  {
   "cell_type": "code",
   "execution_count": 24,
   "id": "074d0339",
   "metadata": {},
   "outputs": [
    {
     "data": {
      "text/plain": [
       "{1, 2, 3, 4, 5, 6, 7, 8, 9}"
      ]
     },
     "execution_count": 24,
     "metadata": {},
     "output_type": "execute_result"
    }
   ],
   "source": [
    "num2.union(num1)"
   ]
  },
  {
   "cell_type": "code",
   "execution_count": 25,
   "id": "c2734e6c",
   "metadata": {},
   "outputs": [
    {
     "data": {
      "text/plain": [
       "{4, 5, 6, 7}"
      ]
     },
     "execution_count": 25,
     "metadata": {},
     "output_type": "execute_result"
    }
   ],
   "source": [
    "num1.intersection(num2)"
   ]
  },
  {
   "cell_type": "code",
   "execution_count": 26,
   "id": "601642e2",
   "metadata": {},
   "outputs": [
    {
     "data": {
      "text/plain": [
       "{4, 5, 6, 7}"
      ]
     },
     "execution_count": 26,
     "metadata": {},
     "output_type": "execute_result"
    }
   ],
   "source": [
    "num2.intersection(num1)"
   ]
  },
  {
   "cell_type": "code",
   "execution_count": 27,
   "id": "4e146caa",
   "metadata": {},
   "outputs": [
    {
     "data": {
      "text/plain": [
       "{1, 2, 3, 8}"
      ]
     },
     "execution_count": 27,
     "metadata": {},
     "output_type": "execute_result"
    }
   ],
   "source": [
    "num1.difference(num2)"
   ]
  },
  {
   "cell_type": "code",
   "execution_count": 28,
   "id": "232f1287",
   "metadata": {},
   "outputs": [
    {
     "data": {
      "text/plain": [
       "{9}"
      ]
     },
     "execution_count": 28,
     "metadata": {},
     "output_type": "execute_result"
    }
   ],
   "source": [
    "num2.difference(num1)"
   ]
  },
  {
   "cell_type": "code",
   "execution_count": 29,
   "id": "306ce935",
   "metadata": {},
   "outputs": [],
   "source": [
    "#5"
   ]
  },
  {
   "cell_type": "code",
   "execution_count": 30,
   "id": "e09bdecf",
   "metadata": {},
   "outputs": [],
   "source": [
    "num3=(1,3,4,5,8)"
   ]
  },
  {
   "cell_type": "code",
   "execution_count": 31,
   "id": "8ac84194",
   "metadata": {},
   "outputs": [],
   "source": [
    "s=set(num3)"
   ]
  },
  {
   "cell_type": "code",
   "execution_count": 32,
   "id": "17409339",
   "metadata": {},
   "outputs": [
    {
     "data": {
      "text/plain": [
       "{1, 3, 4, 5, 8}"
      ]
     },
     "execution_count": 32,
     "metadata": {},
     "output_type": "execute_result"
    }
   ],
   "source": [
    "s"
   ]
  },
  {
   "cell_type": "code",
   "execution_count": 33,
   "id": "3a501089",
   "metadata": {},
   "outputs": [
    {
     "data": {
      "text/plain": [
       "set"
      ]
     },
     "execution_count": 33,
     "metadata": {},
     "output_type": "execute_result"
    }
   ],
   "source": [
    "type(s)"
   ]
  },
  {
   "cell_type": "code",
   "execution_count": 35,
   "id": "69f4d713",
   "metadata": {},
   "outputs": [
    {
     "data": {
      "text/plain": [
       "1"
      ]
     },
     "execution_count": 35,
     "metadata": {},
     "output_type": "execute_result"
    }
   ],
   "source": [
    "min(s)"
   ]
  },
  {
   "cell_type": "code",
   "execution_count": 36,
   "id": "e3571aed",
   "metadata": {},
   "outputs": [
    {
     "data": {
      "text/plain": [
       "8"
      ]
     },
     "execution_count": 36,
     "metadata": {},
     "output_type": "execute_result"
    }
   ],
   "source": [
    "max(s)"
   ]
  },
  {
   "cell_type": "code",
   "execution_count": 37,
   "id": "148b4f1c",
   "metadata": {},
   "outputs": [],
   "source": [
    "#6"
   ]
  },
  {
   "cell_type": "code",
   "execution_count": 38,
   "id": "96fcc03f",
   "metadata": {},
   "outputs": [],
   "source": [
    "name=(\"reshma\",\"pooja\",\"ramya\")"
   ]
  },
  {
   "cell_type": "code",
   "execution_count": 39,
   "id": "281f9cc3",
   "metadata": {},
   "outputs": [
    {
     "data": {
      "text/plain": [
       "tuple"
      ]
     },
     "execution_count": 39,
     "metadata": {},
     "output_type": "execute_result"
    }
   ],
   "source": [
    "type(name)"
   ]
  },
  {
   "cell_type": "code",
   "execution_count": 40,
   "id": "e1c3a258",
   "metadata": {},
   "outputs": [
    {
     "ename": "AttributeError",
     "evalue": "'tuple' object has no attribute 'append'",
     "output_type": "error",
     "traceback": [
      "\u001b[1;31m---------------------------------------------------------------------------\u001b[0m",
      "\u001b[1;31mAttributeError\u001b[0m                            Traceback (most recent call last)",
      "Cell \u001b[1;32mIn[40], line 1\u001b[0m\n\u001b[1;32m----> 1\u001b[0m name\u001b[38;5;241m.\u001b[39mappend(\u001b[38;5;124m\"\u001b[39m\u001b[38;5;124mrasi\u001b[39m\u001b[38;5;124m\"\u001b[39m)\n",
      "\u001b[1;31mAttributeError\u001b[0m: 'tuple' object has no attribute 'append'"
     ]
    }
   ],
   "source": [
    "name.append(\"rasi\")"
   ]
  },
  {
   "cell_type": "code",
   "execution_count": 41,
   "id": "054c0cd6",
   "metadata": {},
   "outputs": [],
   "source": [
    "    ##tuple is a immutable there is no changes in input."
   ]
  },
  {
   "cell_type": "code",
   "execution_count": 42,
   "id": "a2923a2f",
   "metadata": {},
   "outputs": [],
   "source": [
    "#7"
   ]
  },
  {
   "cell_type": "code",
   "execution_count": 43,
   "id": "cb37db3d",
   "metadata": {},
   "outputs": [],
   "source": [
    "set={1,23,4,5,6}"
   ]
  },
  {
   "cell_type": "code",
   "execution_count": 44,
   "id": "7f1f8281",
   "metadata": {},
   "outputs": [
    {
     "data": {
      "text/plain": [
       "set"
      ]
     },
     "execution_count": 44,
     "metadata": {},
     "output_type": "execute_result"
    }
   ],
   "source": [
    "type(set)"
   ]
  },
  {
   "cell_type": "code",
   "execution_count": 45,
   "id": "2f256bd0",
   "metadata": {},
   "outputs": [],
   "source": [
    "set.add(22)"
   ]
  },
  {
   "cell_type": "code",
   "execution_count": 46,
   "id": "5bde17f1",
   "metadata": {},
   "outputs": [
    {
     "data": {
      "text/plain": [
       "{1, 4, 5, 6, 22, 23}"
      ]
     },
     "execution_count": 46,
     "metadata": {},
     "output_type": "execute_result"
    }
   ],
   "source": [
    "set"
   ]
  },
  {
   "cell_type": "code",
   "execution_count": 47,
   "id": "4ceca2a3",
   "metadata": {},
   "outputs": [],
   "source": [
    "set.remove(23)"
   ]
  },
  {
   "cell_type": "code",
   "execution_count": 48,
   "id": "e755fcc9",
   "metadata": {},
   "outputs": [
    {
     "data": {
      "text/plain": [
       "{1, 4, 5, 6, 22}"
      ]
     },
     "execution_count": 48,
     "metadata": {},
     "output_type": "execute_result"
    }
   ],
   "source": [
    "set"
   ]
  },
  {
   "cell_type": "code",
   "execution_count": 50,
   "id": "23a9ce2e",
   "metadata": {},
   "outputs": [
    {
     "data": {
      "text/plain": [
       "True"
      ]
     },
     "execution_count": 50,
     "metadata": {},
     "output_type": "execute_result"
    }
   ],
   "source": [
    "5 in set"
   ]
  },
  {
   "cell_type": "code",
   "execution_count": 51,
   "id": "45529cc2",
   "metadata": {},
   "outputs": [
    {
     "data": {
      "text/plain": [
       "5"
      ]
     },
     "execution_count": 51,
     "metadata": {},
     "output_type": "execute_result"
    }
   ],
   "source": [
    "len(set)"
   ]
  },
  {
   "cell_type": "code",
   "execution_count": 52,
   "id": "1a1ea999",
   "metadata": {},
   "outputs": [],
   "source": [
    "#8"
   ]
  },
  {
   "cell_type": "code",
   "execution_count": 53,
   "id": "5799f8e5",
   "metadata": {},
   "outputs": [],
   "source": [
    "D=(1,3,55,78,99,90,56,44,667,66)"
   ]
  },
  {
   "cell_type": "code",
   "execution_count": 54,
   "id": "18a6e460",
   "metadata": {},
   "outputs": [
    {
     "data": {
      "text/plain": [
       "(1, 3, 55, 78, 99, 90, 56, 44, 667, 66)"
      ]
     },
     "execution_count": 54,
     "metadata": {},
     "output_type": "execute_result"
    }
   ],
   "source": [
    "D"
   ]
  },
  {
   "cell_type": "code",
   "execution_count": 55,
   "id": "47d0307b",
   "metadata": {},
   "outputs": [
    {
     "data": {
      "text/plain": [
       "(78, 99, 90, 56, 44)"
      ]
     },
     "execution_count": 55,
     "metadata": {},
     "output_type": "execute_result"
    }
   ],
   "source": [
    "D[3:8]"
   ]
  },
  {
   "cell_type": "code",
   "execution_count": 98,
   "id": "563eb161",
   "metadata": {},
   "outputs": [],
   "source": [
    "#10"
   ]
  },
  {
   "cell_type": "code",
   "execution_count": 100,
   "id": "854921c0",
   "metadata": {},
   "outputs": [],
   "source": [
    "my=(\"Dark night\",\"tittanic\",\"meg\")\n",
    "fri={\"wolf\",\"pushpa\",\"vedaam\",\"Dark night\"}"
   ]
  },
  {
   "cell_type": "code",
   "execution_count": 102,
   "id": "a95cfca2",
   "metadata": {},
   "outputs": [
    {
     "data": {
      "text/plain": [
       "('Dark night', 'tittanic', 'meg')"
      ]
     },
     "execution_count": 102,
     "metadata": {},
     "output_type": "execute_result"
    }
   ],
   "source": [
    "my"
   ]
  },
  {
   "cell_type": "code",
   "execution_count": 103,
   "id": "a92453dd",
   "metadata": {},
   "outputs": [
    {
     "data": {
      "text/plain": [
       "{'Dark night', 'pushpa', 'vedaam', 'wolf'}"
      ]
     },
     "execution_count": 103,
     "metadata": {},
     "output_type": "execute_result"
    }
   ],
   "source": [
    "fri"
   ]
  },
  {
   "cell_type": "code",
   "execution_count": 111,
   "id": "4e812659",
   "metadata": {},
   "outputs": [
    {
     "ename": "TypeError",
     "evalue": "'set' object is not callable",
     "output_type": "error",
     "traceback": [
      "\u001b[1;31m---------------------------------------------------------------------------\u001b[0m",
      "\u001b[1;31mTypeError\u001b[0m                                 Traceback (most recent call last)",
      "Cell \u001b[1;32mIn[111], line 1\u001b[0m\n\u001b[1;32m----> 1\u001b[0m mov\u001b[38;5;241m=\u001b[39m\u001b[38;5;28mset\u001b[39m(my)\n",
      "\u001b[1;31mTypeError\u001b[0m: 'set' object is not callable"
     ]
    }
   ],
   "source": [
    "mov=set(my)                  ## i try so many time this file can be  error again( i also reload page)"
   ]
  },
  {
   "cell_type": "code",
   "execution_count": null,
   "id": "4c5b9073",
   "metadata": {},
   "outputs": [],
   "source": []
  }
 ],
 "metadata": {
  "kernelspec": {
   "display_name": "Python 3 (ipykernel)",
   "language": "python",
   "name": "python3"
  },
  "language_info": {
   "codemirror_mode": {
    "name": "ipython",
    "version": 3
   },
   "file_extension": ".py",
   "mimetype": "text/x-python",
   "name": "python",
   "nbconvert_exporter": "python",
   "pygments_lexer": "ipython3",
   "version": "3.11.4"
  }
 },
 "nbformat": 4,
 "nbformat_minor": 5
}
