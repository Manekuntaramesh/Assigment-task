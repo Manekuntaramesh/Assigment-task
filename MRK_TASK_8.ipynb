{
 "cells": [
  {
   "cell_type": "markdown",
   "id": "21c2b7b2",
   "metadata": {},
   "source": [
    "\n",
    "**Task 1: Basic If-Else Statements**\n",
    "Write a Python program that takes an `integer as input` from the user and prints whether it is `multiple of 3 or not` using if-else statements.\n",
    "\n",
    "**Task 2: Nested If Statements**\n",
    "Create a program that `asks the user` for their `age` and `nationality`. Depending on their age and nationality, display a different message using nested if statements. For example, if they are under 18 and from the USA, display `\"You are a minor from the USA.\"`\n",
    "\n",
    "**Task 3: Grade Calculator**\n",
    "Write a program that takes a student's score as input and converts it to a letter grade (A, B, C, D, or F) using if-elif-else statements. Use the following grading scale:\n",
    "- A: 90-100\n",
    "- B: 80-89\n",
    "- C: 70-79\n",
    "- D: 60-69\n",
    "- F: Below 60\n",
    "\n",
    "**Task 4: Leap Year Checker**\n",
    "Create a Python program that checks if a given year is a leap year or not. Use conditional statements to determine whether the year is divisible by 4, 100, and 400 to decide if it's a leap year.\n",
    "\n",
    "**Task 5: BMI Calculator**\n",
    "Write a program that calculates a person's Body Mass Index (BMI) based on their height and weight. Then, use conditional statements to categorize the BMI as Underweight, Normal, Overweight, or Obese. Provide guidance on the healthy range for BMI.(use BMI Formula)\n",
    "\n",
    "**Task 6: Calculator with Menu**\n",
    "Build a simple calculator program that provides a menu with options for addition, subtraction, multiplication, and division. `Take user input for two numbers`and an `operation choice`. Use conditional statements to perform the selected operation and display the result.\n",
    "\n",
    "**Task 7: Temperature Converter**\n",
    "Write a program that `converts temperatures between Celsius and Fahrenhei`t. Allow the user to `choose` the conversion direction and input the temperature value. Use conditional statements to perform the conversion based on the `user's choice`.(Do with conversion formula)\n"
   ]
  },
  {
   "cell_type": "code",
   "execution_count": 1,
   "id": "2e45b106",
   "metadata": {},
   "outputs": [],
   "source": [
    "#1"
   ]
  },
  {
   "cell_type": "code",
   "execution_count": 2,
   "id": "1dfe2300",
   "metadata": {},
   "outputs": [
    {
     "name": "stdout",
     "output_type": "stream",
     "text": [
      "Enter number:: 65\n",
      "not multiple\n"
     ]
    }
   ],
   "source": [
    "num=int(input(\"Enter number:: \"))\n",
    "if num*3==0 :\n",
    "    print(\"multiple of 3\")\n",
    "else:\n",
    "    print(\"not multiple\")"
   ]
  },
  {
   "cell_type": "code",
   "execution_count": 3,
   "id": "86338440",
   "metadata": {},
   "outputs": [],
   "source": [
    "#2"
   ]
  },
  {
   "cell_type": "code",
   "execution_count": 10,
   "id": "66704044",
   "metadata": {},
   "outputs": [
    {
     "name": "stdout",
     "output_type": "stream",
     "text": [
      "Enter you age :: 55\n",
      "Enter you nation :: USA\n",
      "you are minor in USA\n"
     ]
    }
   ],
   "source": [
    "age=int(input(\"Enter you age :: \"))\n",
    "if (age>18):\n",
    "    nation=input('Enter you nation :: ')\n",
    "    if(nation==\"USA\"):\n",
    "        print(\"you are minor in USA\")\n",
    "else:\n",
    "    print(\"ypu are not minor\")"
   ]
  },
  {
   "cell_type": "code",
   "execution_count": 16,
   "id": "eaebff27",
   "metadata": {},
   "outputs": [],
   "source": [
    "#3"
   ]
  },
  {
   "cell_type": "code",
   "execution_count": 20,
   "id": "72a0c977",
   "metadata": {},
   "outputs": [
    {
     "name": "stdout",
     "output_type": "stream",
     "text": [
      "Enter student Grade:: 12\n",
      "Final\n"
     ]
    }
   ],
   "source": [
    "score=int(input(\"Enter student Grade:: \"))\n",
    "\n",
    "if (score<=90) and (score>=100):\n",
    "    print(\"Grade A\")\n",
    "elif (score<=80) and (score>=89):\n",
    "    print(\"Grand B\")\n",
    "elif (score<=70) and (score>=79):\n",
    "    print(\"grand C\")\n",
    "elif (score<=60) and (score>=69):\n",
    "    print(\"Grand D\")\n",
    "else:\n",
    "    print(\"Final\")"
   ]
  },
  {
   "cell_type": "code",
   "execution_count": 21,
   "id": "058aba92",
   "metadata": {},
   "outputs": [],
   "source": [
    "#4"
   ]
  },
  {
   "cell_type": "code",
   "execution_count": 22,
   "id": "41e3bd15",
   "metadata": {},
   "outputs": [
    {
     "name": "stdout",
     "output_type": "stream",
     "text": [
      "enter year ::2990\n",
      " It is not leap year\n"
     ]
    }
   ],
   "source": [
    "year=int(input(\"enter year ::\"))\n",
    "if (year % 4 == 0) and (year % 100 == 0) and (year % 400 == 0):\n",
    "    print(\" It is leap year\")\n",
    "else:\n",
    "    print(\" It is not leap year\")"
   ]
  },
  {
   "cell_type": "code",
   "execution_count": 23,
   "id": "48feec2c",
   "metadata": {},
   "outputs": [],
   "source": [
    "#5"
   ]
  },
  {
   "cell_type": "code",
   "execution_count": 25,
   "id": "43b1befe",
   "metadata": {},
   "outputs": [
    {
     "name": "stdout",
     "output_type": "stream",
     "text": [
      "enter you height:: 171\n",
      "enter you weight:: 52\n",
      "under weight\n"
     ]
    }
   ],
   "source": [
    "height=int(input(\"enter you height:: \"))\n",
    "weight=int(input(\"enter you weight:: \"))\n",
    "BMI=weight/(height**2)\n",
    "if (BMI > 18) and (BMI <24):\n",
    "    print(\"corrent weight\")\n",
    "elif (BMI > 30):\n",
    "    print(\"over weight\")\n",
    "elif(BMI < 18):\n",
    "    print(\"under weight\")\n",
    "else:\n",
    "    print(\"fill\")"
   ]
  },
  {
   "cell_type": "markdown",
   "id": "79e41905",
   "metadata": {},
   "source": [
    "#6"
   ]
  },
  {
   "cell_type": "code",
   "execution_count": 29,
   "id": "974b2495",
   "metadata": {},
   "outputs": [
    {
     "name": "stdout",
     "output_type": "stream",
     "text": [
      "enter number:: 5\n",
      "enter number:: 8\n",
      "+,-,*+\n",
      "13\n"
     ]
    }
   ],
   "source": [
    "num1=int(input(\"enter number:: \"))\n",
    "num2=int(input(\"enter number:: \"))\n",
    "operation=input(\"\"\"+,-,*\"\"\")\n",
    "if (operation == \"+\"):\n",
    "    print(num1+num2)\n",
    "elif (operation == \"-\"):\n",
    "    print(num1-num2)\n",
    "elif(operation == \"*\"):\n",
    "    print(num1*num2)\n",
    "else:\n",
    "    print(\"check you number\")"
   ]
  },
  {
   "cell_type": "code",
   "execution_count": 30,
   "id": "9302c726",
   "metadata": {},
   "outputs": [],
   "source": [
    "#7"
   ]
  },
  {
   "cell_type": "code",
   "execution_count": 43,
   "id": "35b2382e",
   "metadata": {},
   "outputs": [
    {
     "name": "stdout",
     "output_type": "stream",
     "text": [
      "enter temperature:: 66\n",
      "enter conversion:: 8\n",
      "valid\n"
     ]
    }
   ],
   "source": [
    "temp=float(input(\"enter temperature:: \"))\n",
    "conversion=int(input(\"enter conversion:: \"))\n",
    "\n",
    "if (conversion == \"f\"):\n",
    "    f= tem*1.8+3.2\n",
    "    print(f)\n",
    "elif(temp == \"c\" ):\n",
    "    c=(tem-3.2)/1.8\n",
    "    print(c)\n",
    "else:\n",
    "    print(\"valid\")"
   ]
  }
 ],
 "metadata": {
  "kernelspec": {
   "display_name": "Python 3 (ipykernel)",
   "language": "python",
   "name": "python3"
  },
  "language_info": {
   "codemirror_mode": {
    "name": "ipython",
    "version": 3
   },
   "file_extension": ".py",
   "mimetype": "text/x-python",
   "name": "python",
   "nbconvert_exporter": "python",
   "pygments_lexer": "ipython3",
   "version": "3.11.4"
  }
 },
 "nbformat": 4,
 "nbformat_minor": 5
}
