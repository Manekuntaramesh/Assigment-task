{
 "cells": [
  {
   "cell_type": "code",
   "execution_count": 2,
   "id": "b8c389a0",
   "metadata": {},
   "outputs": [],
   "source": [
    "import numpy as np"
   ]
  },
  {
   "cell_type": "markdown",
   "id": "f0e525d1",
   "metadata": {},
   "source": [
    "1.Creating array in diff methods"
   ]
  },
  {
   "cell_type": "code",
   "execution_count": 3,
   "id": "9ca2aaf9",
   "metadata": {},
   "outputs": [],
   "source": [
    "arr=np.array([1,4,6,8,9,77])          ##method 1"
   ]
  },
  {
   "cell_type": "code",
   "execution_count": 4,
   "id": "3394f10f",
   "metadata": {},
   "outputs": [
    {
     "data": {
      "text/plain": [
       "array([ 1,  4,  6,  8,  9, 77])"
      ]
     },
     "execution_count": 4,
     "metadata": {},
     "output_type": "execute_result"
    }
   ],
   "source": [
    "arr"
   ]
  },
  {
   "cell_type": "code",
   "execution_count": 5,
   "id": "776fe733",
   "metadata": {},
   "outputs": [
    {
     "data": {
      "text/plain": [
       "array([1, 4, 6, 7, 8])"
      ]
     },
     "execution_count": 5,
     "metadata": {},
     "output_type": "execute_result"
    }
   ],
   "source": [
    "list1=[1,4,6,7,8]                    ##method 2\n",
    "arr1=np.array(list1)\n",
    "arr1"
   ]
  },
  {
   "cell_type": "code",
   "execution_count": 6,
   "id": "954bdc84",
   "metadata": {},
   "outputs": [
    {
     "data": {
      "text/plain": [
       "array([2, 6, 8, 4])"
      ]
     },
     "execution_count": 6,
     "metadata": {},
     "output_type": "execute_result"
    }
   ],
   "source": [
    "tup=(2,6,8,4)\n",
    "arr2=np.array(tup)\n",
    "arr2                                ##method3"
   ]
  },
  {
   "cell_type": "code",
   "execution_count": 8,
   "id": "467a907a",
   "metadata": {},
   "outputs": [
    {
     "data": {
      "text/plain": [
       "array([1, 2, 3, 4, 5, 6])"
      ]
     },
     "execution_count": 8,
     "metadata": {},
     "output_type": "execute_result"
    }
   ],
   "source": [
    "np.arange(1,7)                     ## method 4"
   ]
  },
  {
   "cell_type": "code",
   "execution_count": 9,
   "id": "ae265149",
   "metadata": {},
   "outputs": [
    {
     "data": {
      "text/plain": [
       "array([33.        , 33.44897959, 33.89795918, 34.34693878, 34.79591837,\n",
       "       35.24489796, 35.69387755, 36.14285714, 36.59183673, 37.04081633,\n",
       "       37.48979592, 37.93877551, 38.3877551 , 38.83673469, 39.28571429,\n",
       "       39.73469388, 40.18367347, 40.63265306, 41.08163265, 41.53061224,\n",
       "       41.97959184, 42.42857143, 42.87755102, 43.32653061, 43.7755102 ,\n",
       "       44.2244898 , 44.67346939, 45.12244898, 45.57142857, 46.02040816,\n",
       "       46.46938776, 46.91836735, 47.36734694, 47.81632653, 48.26530612,\n",
       "       48.71428571, 49.16326531, 49.6122449 , 50.06122449, 50.51020408,\n",
       "       50.95918367, 51.40816327, 51.85714286, 52.30612245, 52.75510204,\n",
       "       53.20408163, 53.65306122, 54.10204082, 54.55102041, 55.        ])"
      ]
     },
     "execution_count": 9,
     "metadata": {},
     "output_type": "execute_result"
    }
   ],
   "source": [
    "np.linspace(33,55,)                ## method 5"
   ]
  },
  {
   "cell_type": "markdown",
   "id": "f546bbbb",
   "metadata": {},
   "source": [
    "1D NumPy Array for 12 positive int"
   ]
  },
  {
   "cell_type": "code",
   "execution_count": 12,
   "id": "ef98be5c",
   "metadata": {},
   "outputs": [],
   "source": [
    "arra=np.arange(1,13)"
   ]
  },
  {
   "cell_type": "code",
   "execution_count": 13,
   "id": "4846bde7",
   "metadata": {},
   "outputs": [
    {
     "data": {
      "text/plain": [
       "array([ 1,  2,  3,  4,  5,  6,  7,  8,  9, 10, 11, 12])"
      ]
     },
     "execution_count": 13,
     "metadata": {},
     "output_type": "execute_result"
    }
   ],
   "source": [
    "arra"
   ]
  },
  {
   "cell_type": "markdown",
   "id": "53bc8b71",
   "metadata": {},
   "source": [
    "1D NumPy Array for 20 elements between 0 and 12"
   ]
  },
  {
   "cell_type": "code",
   "execution_count": 14,
   "id": "c8dfe68e",
   "metadata": {},
   "outputs": [
    {
     "data": {
      "text/plain": [
       "array([ 0.        ,  0.63157895,  1.26315789,  1.89473684,  2.52631579,\n",
       "        3.15789474,  3.78947368,  4.42105263,  5.05263158,  5.68421053,\n",
       "        6.31578947,  6.94736842,  7.57894737,  8.21052632,  8.84210526,\n",
       "        9.47368421, 10.10526316, 10.73684211, 11.36842105, 12.        ])"
      ]
     },
     "execution_count": 14,
     "metadata": {},
     "output_type": "execute_result"
    }
   ],
   "source": [
    "arra1=np.linspace(0,12,20)\n",
    "arra1"
   ]
  },
  {
   "cell_type": "markdown",
   "id": "87ebf30a",
   "metadata": {},
   "source": [
    "Attributes of Arra"
   ]
  },
  {
   "cell_type": "code",
   "execution_count": 15,
   "id": "50c80b1d",
   "metadata": {},
   "outputs": [
    {
     "data": {
      "text/plain": [
       "dtype('int32')"
      ]
     },
     "execution_count": 15,
     "metadata": {},
     "output_type": "execute_result"
    }
   ],
   "source": [
    "arra.dtype"
   ]
  },
  {
   "cell_type": "code",
   "execution_count": 16,
   "id": "744d9f91",
   "metadata": {},
   "outputs": [
    {
     "data": {
      "text/plain": [
       "12"
      ]
     },
     "execution_count": 16,
     "metadata": {},
     "output_type": "execute_result"
    }
   ],
   "source": [
    "arra.size"
   ]
  },
  {
   "cell_type": "code",
   "execution_count": 18,
   "id": "afb58484",
   "metadata": {},
   "outputs": [
    {
     "data": {
      "text/plain": [
       "48"
      ]
     },
     "execution_count": 18,
     "metadata": {},
     "output_type": "execute_result"
    }
   ],
   "source": [
    "arra.nbytes"
   ]
  },
  {
   "cell_type": "code",
   "execution_count": 19,
   "id": "d111a405",
   "metadata": {},
   "outputs": [
    {
     "data": {
      "text/plain": [
       "4"
      ]
     },
     "execution_count": 19,
     "metadata": {},
     "output_type": "execute_result"
    }
   ],
   "source": [
    "arra.itemsize"
   ]
  },
  {
   "cell_type": "code",
   "execution_count": 20,
   "id": "5f70375a",
   "metadata": {},
   "outputs": [
    {
     "data": {
      "text/plain": [
       "1"
      ]
     },
     "execution_count": 20,
     "metadata": {},
     "output_type": "execute_result"
    }
   ],
   "source": [
    "arra.ndim"
   ]
  },
  {
   "cell_type": "markdown",
   "id": "85860194",
   "metadata": {},
   "source": [
    "Attributes of Arra1"
   ]
  },
  {
   "cell_type": "code",
   "execution_count": 21,
   "id": "c1346356",
   "metadata": {},
   "outputs": [
    {
     "data": {
      "text/plain": [
       "20"
      ]
     },
     "execution_count": 21,
     "metadata": {},
     "output_type": "execute_result"
    }
   ],
   "source": [
    "arra1.size"
   ]
  },
  {
   "cell_type": "code",
   "execution_count": 22,
   "id": "c4ef9340",
   "metadata": {},
   "outputs": [
    {
     "data": {
      "text/plain": [
       "8"
      ]
     },
     "execution_count": 22,
     "metadata": {},
     "output_type": "execute_result"
    }
   ],
   "source": [
    "arra1.itemsize"
   ]
  },
  {
   "cell_type": "code",
   "execution_count": 24,
   "id": "16917776",
   "metadata": {},
   "outputs": [
    {
     "data": {
      "text/plain": [
       "1"
      ]
     },
     "execution_count": 24,
     "metadata": {},
     "output_type": "execute_result"
    }
   ],
   "source": [
    "arra1.ndim"
   ]
  },
  {
   "cell_type": "code",
   "execution_count": 25,
   "id": "c23d20ab",
   "metadata": {},
   "outputs": [
    {
     "data": {
      "text/plain": [
       "160"
      ]
     },
     "execution_count": 25,
     "metadata": {},
     "output_type": "execute_result"
    }
   ],
   "source": [
    "arra1.nbytes"
   ]
  },
  {
   "cell_type": "code",
   "execution_count": 26,
   "id": "fb75254a",
   "metadata": {},
   "outputs": [
    {
     "data": {
      "text/plain": [
       "dtype('float64')"
      ]
     },
     "execution_count": 26,
     "metadata": {},
     "output_type": "execute_result"
    }
   ],
   "source": [
    "arra1.dtype"
   ]
  },
  {
   "cell_type": "markdown",
   "id": "00e28c6a",
   "metadata": {},
   "source": [
    "Statistics method\n",
    "\n",
    "arra"
   ]
  },
  {
   "cell_type": "code",
   "execution_count": 27,
   "id": "8d9de649",
   "metadata": {},
   "outputs": [
    {
     "data": {
      "text/plain": [
       "6.5"
      ]
     },
     "execution_count": 27,
     "metadata": {},
     "output_type": "execute_result"
    }
   ],
   "source": [
    "np.mean(arra)"
   ]
  },
  {
   "cell_type": "code",
   "execution_count": 28,
   "id": "6a02cfc7",
   "metadata": {},
   "outputs": [
    {
     "data": {
      "text/plain": [
       "6.5"
      ]
     },
     "execution_count": 28,
     "metadata": {},
     "output_type": "execute_result"
    }
   ],
   "source": [
    "np.median(arra)"
   ]
  },
  {
   "cell_type": "code",
   "execution_count": 29,
   "id": "ac5efcf6",
   "metadata": {},
   "outputs": [
    {
     "data": {
      "text/plain": [
       "1"
      ]
     },
     "execution_count": 29,
     "metadata": {},
     "output_type": "execute_result"
    }
   ],
   "source": [
    "np.min(arra)"
   ]
  },
  {
   "cell_type": "code",
   "execution_count": 30,
   "id": "aba1d427",
   "metadata": {},
   "outputs": [
    {
     "data": {
      "text/plain": [
       "12"
      ]
     },
     "execution_count": 30,
     "metadata": {},
     "output_type": "execute_result"
    }
   ],
   "source": [
    "np.max(arra)"
   ]
  },
  {
   "cell_type": "code",
   "execution_count": 33,
   "id": "a2a4fa0d",
   "metadata": {},
   "outputs": [
    {
     "data": {
      "text/plain": [
       "11"
      ]
     },
     "execution_count": 33,
     "metadata": {},
     "output_type": "execute_result"
    }
   ],
   "source": [
    "np.max(arra)-np.min(arra)                ##range"
   ]
  },
  {
   "cell_type": "code",
   "execution_count": 34,
   "id": "573c0300",
   "metadata": {},
   "outputs": [
    {
     "data": {
      "text/plain": [
       "11.916666666666666"
      ]
     },
     "execution_count": 34,
     "metadata": {},
     "output_type": "execute_result"
    }
   ],
   "source": [
    "np.var(arra)"
   ]
  },
  {
   "cell_type": "code",
   "execution_count": 36,
   "id": "eab574ba",
   "metadata": {},
   "outputs": [
    {
     "data": {
      "text/plain": [
       "3.452052529534663"
      ]
     },
     "execution_count": 36,
     "metadata": {},
     "output_type": "execute_result"
    }
   ],
   "source": [
    "np.std(arra)"
   ]
  },
  {
   "cell_type": "markdown",
   "id": "fe1f75db",
   "metadata": {},
   "source": [
    "arra1"
   ]
  },
  {
   "cell_type": "code",
   "execution_count": 37,
   "id": "45e10ee7",
   "metadata": {},
   "outputs": [
    {
     "data": {
      "text/plain": [
       "5.999999999999999"
      ]
     },
     "execution_count": 37,
     "metadata": {},
     "output_type": "execute_result"
    }
   ],
   "source": [
    "np.mean(arra1)"
   ]
  },
  {
   "cell_type": "code",
   "execution_count": 39,
   "id": "20991696",
   "metadata": {},
   "outputs": [
    {
     "data": {
      "text/plain": [
       "6.0"
      ]
     },
     "execution_count": 39,
     "metadata": {},
     "output_type": "execute_result"
    }
   ],
   "source": [
    "np.median(arra1)"
   ]
  },
  {
   "cell_type": "code",
   "execution_count": 40,
   "id": "e9c3b412",
   "metadata": {},
   "outputs": [
    {
     "data": {
      "text/plain": [
       "12.0"
      ]
     },
     "execution_count": 40,
     "metadata": {},
     "output_type": "execute_result"
    }
   ],
   "source": [
    "np.max(arra1)"
   ]
  },
  {
   "cell_type": "code",
   "execution_count": 41,
   "id": "6d2c3235",
   "metadata": {},
   "outputs": [
    {
     "data": {
      "text/plain": [
       "0.0"
      ]
     },
     "execution_count": 41,
     "metadata": {},
     "output_type": "execute_result"
    }
   ],
   "source": [
    "np.min(arra1)"
   ]
  },
  {
   "cell_type": "code",
   "execution_count": 42,
   "id": "8d7c5976",
   "metadata": {},
   "outputs": [
    {
     "data": {
      "text/plain": [
       "12.0"
      ]
     },
     "execution_count": 42,
     "metadata": {},
     "output_type": "execute_result"
    }
   ],
   "source": [
    "np.max(arra1)-np.min(arra1)"
   ]
  },
  {
   "cell_type": "code",
   "execution_count": 43,
   "id": "3c2a4b71",
   "metadata": {},
   "outputs": [
    {
     "data": {
      "text/plain": [
       "13.26315789473684"
      ]
     },
     "execution_count": 43,
     "metadata": {},
     "output_type": "execute_result"
    }
   ],
   "source": [
    "np.var(arra1)"
   ]
  },
  {
   "cell_type": "code",
   "execution_count": 44,
   "id": "a2076497",
   "metadata": {},
   "outputs": [
    {
     "data": {
      "text/plain": [
       "3.6418618720013036"
      ]
     },
     "execution_count": 44,
     "metadata": {},
     "output_type": "execute_result"
    }
   ],
   "source": [
    "np.std(arra1)"
   ]
  },
  {
   "cell_type": "markdown",
   "id": "3ab3ce73",
   "metadata": {},
   "source": [
    "IQR for Arra"
   ]
  },
  {
   "cell_type": "code",
   "execution_count": 45,
   "id": "f19468b2",
   "metadata": {},
   "outputs": [
    {
     "data": {
      "text/plain": [
       "3.75"
      ]
     },
     "execution_count": 45,
     "metadata": {},
     "output_type": "execute_result"
    }
   ],
   "source": [
    "Q1=np.percentile(arra,25)\n",
    "Q1"
   ]
  },
  {
   "cell_type": "code",
   "execution_count": 49,
   "id": "78112238",
   "metadata": {},
   "outputs": [],
   "source": [
    "Q3=np.percentile(arra,75)"
   ]
  },
  {
   "cell_type": "code",
   "execution_count": 50,
   "id": "1a7dae01",
   "metadata": {},
   "outputs": [
    {
     "data": {
      "text/plain": [
       "9.25"
      ]
     },
     "execution_count": 50,
     "metadata": {},
     "output_type": "execute_result"
    }
   ],
   "source": [
    "Q3"
   ]
  },
  {
   "cell_type": "code",
   "execution_count": 51,
   "id": "e01de265",
   "metadata": {},
   "outputs": [],
   "source": [
    "IQR=Q3-Q1"
   ]
  },
  {
   "cell_type": "code",
   "execution_count": 52,
   "id": "5a50097b",
   "metadata": {},
   "outputs": [
    {
     "data": {
      "text/plain": [
       "5.5"
      ]
     },
     "execution_count": 52,
     "metadata": {},
     "output_type": "execute_result"
    }
   ],
   "source": [
    "IQR"
   ]
  },
  {
   "cell_type": "code",
   "execution_count": 53,
   "id": "a67bc3b7",
   "metadata": {},
   "outputs": [
    {
     "data": {
      "text/plain": [
       "-4.5"
      ]
     },
     "execution_count": 53,
     "metadata": {},
     "output_type": "execute_result"
    }
   ],
   "source": [
    "lower=Q1 - (1.5*IQR)\n",
    "lower                                   ##lower limt"
   ]
  },
  {
   "cell_type": "code",
   "execution_count": 55,
   "id": "0a5a51bb",
   "metadata": {},
   "outputs": [
    {
     "data": {
      "text/plain": [
       "17.5"
      ]
     },
     "execution_count": 55,
     "metadata": {},
     "output_type": "execute_result"
    }
   ],
   "source": [
    "upper=Q3+(1.5*IQR)                    ##upper limt\n",
    "upper"
   ]
  },
  {
   "cell_type": "markdown",
   "id": "75ac9df0",
   "metadata": {},
   "source": [
    "IQR for Arra1"
   ]
  },
  {
   "cell_type": "code",
   "execution_count": 56,
   "id": "dc216ffc",
   "metadata": {},
   "outputs": [
    {
     "data": {
      "text/plain": [
       "3.0"
      ]
     },
     "execution_count": 56,
     "metadata": {},
     "output_type": "execute_result"
    }
   ],
   "source": [
    "Q1=np.percentile(arra1,25)\n",
    "Q1"
   ]
  },
  {
   "cell_type": "code",
   "execution_count": 58,
   "id": "a1562dda",
   "metadata": {},
   "outputs": [
    {
     "data": {
      "text/plain": [
       "9.0"
      ]
     },
     "execution_count": 58,
     "metadata": {},
     "output_type": "execute_result"
    }
   ],
   "source": [
    "Q3=np.percentile(arra1,75)\n",
    "Q3"
   ]
  },
  {
   "cell_type": "code",
   "execution_count": 59,
   "id": "9d2e79fe",
   "metadata": {},
   "outputs": [],
   "source": [
    "IQR=Q3-Q1"
   ]
  },
  {
   "cell_type": "code",
   "execution_count": 60,
   "id": "5e15e439",
   "metadata": {},
   "outputs": [
    {
     "data": {
      "text/plain": [
       "6.0"
      ]
     },
     "execution_count": 60,
     "metadata": {},
     "output_type": "execute_result"
    }
   ],
   "source": [
    "IQR"
   ]
  },
  {
   "cell_type": "code",
   "execution_count": 61,
   "id": "0bb79c41",
   "metadata": {},
   "outputs": [
    {
     "data": {
      "text/plain": [
       "-6.0"
      ]
     },
     "execution_count": 61,
     "metadata": {},
     "output_type": "execute_result"
    }
   ],
   "source": [
    "lower = Q1- (1.5*IQR)\n",
    "lower"
   ]
  },
  {
   "cell_type": "code",
   "execution_count": 64,
   "id": "33fbe134",
   "metadata": {},
   "outputs": [
    {
     "data": {
      "text/plain": [
       "18.0"
      ]
     },
     "execution_count": 64,
     "metadata": {},
     "output_type": "execute_result"
    }
   ],
   "source": [
    "upper=Q3+(1.5*IQR)\n",
    "upper"
   ]
  },
  {
   "cell_type": "code",
   "execution_count": null,
   "id": "52cd973e",
   "metadata": {},
   "outputs": [],
   "source": []
  }
 ],
 "metadata": {
  "kernelspec": {
   "display_name": "Python 3 (ipykernel)",
   "language": "python",
   "name": "python3"
  },
  "language_info": {
   "codemirror_mode": {
    "name": "ipython",
    "version": 3
   },
   "file_extension": ".py",
   "mimetype": "text/x-python",
   "name": "python",
   "nbconvert_exporter": "python",
   "pygments_lexer": "ipython3",
   "version": "3.11.4"
  }
 },
 "nbformat": 4,
 "nbformat_minor": 5
}
